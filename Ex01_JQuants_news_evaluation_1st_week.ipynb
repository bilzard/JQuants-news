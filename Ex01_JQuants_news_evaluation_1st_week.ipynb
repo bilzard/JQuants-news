{
  "nbformat": 4,
  "nbformat_minor": 0,
  "metadata": {
    "colab": {
      "name": "Ex01-JQuants-news-evaluation-1st-week.ipynb",
      "provenance": [],
      "collapsed_sections": [],
      "mount_file_id": "1Fn53dUjnVy9LlOY7Ac6MieNRauXtfhsq",
      "authorship_tag": "ABX9TyNMrqZeEKpjS4++J5lFCQ7Z",
      "include_colab_link": true
    },
    "kernelspec": {
      "name": "python3",
      "display_name": "Python 3"
    },
    "language_info": {
      "name": "python"
    }
  },
  "cells": [
    {
      "cell_type": "markdown",
      "metadata": {
        "id": "view-in-github",
        "colab_type": "text"
      },
      "source": [
        "<a href=\"https://colab.research.google.com/github/bilzard/JQuants-news/blob/main/Ex01_JQuants_news_evaluation_1st_week.ipynb\" target=\"_parent\"><img src=\"https://colab.research.google.com/assets/colab-badge.svg\" alt=\"Open In Colab\"/></a>"
      ]
    },
    {
      "cell_type": "markdown",
      "metadata": {
        "id": "03lA0NomGZCl"
      },
      "source": [
        "# はじめに\n",
        "\n",
        "評価期間第一週に提出した全参加者のスコアの分布と、提出したモデルの統計的な特徴について簡単に調べてみました。"
      ]
    },
    {
      "cell_type": "code",
      "metadata": {
        "colab": {
          "base_uri": "https://localhost:8080/"
        },
        "id": "cQwxkPdac1nT",
        "outputId": "f63d3271-316c-4ce5-df1d-e06d44f7938f"
      },
      "source": [
        "from google.colab import drive\n",
        "drive.mount('/content/drive')"
      ],
      "execution_count": 1,
      "outputs": [
        {
          "output_type": "stream",
          "text": [
            "Drive already mounted at /content/drive; to attempt to forcibly remount, call drive.mount(\"/content/drive\", force_remount=True).\n"
          ],
          "name": "stdout"
        }
      ]
    },
    {
      "cell_type": "code",
      "metadata": {
        "id": "UqcKuYqJc2Zg"
      },
      "source": [
        "import os\n",
        "\n",
        "import pandas as pd\n",
        "import numpy as np\n",
        "import matplotlib.pyplot as plt\n",
        "import seaborn as sns\n",
        "from scipy import stats"
      ],
      "execution_count": 22,
      "outputs": []
    },
    {
      "cell_type": "markdown",
      "metadata": {
        "id": "IQW0MMnccLfp"
      },
      "source": [
        "データソースはSIGNATEのPrivateLBをコピペしたものを加工して作っています。"
      ]
    },
    {
      "cell_type": "code",
      "metadata": {
        "id": "dCk3sei2dBo0"
      },
      "source": [
        "lb_df = pd.read_csv('/content/drive/MyDrive/Colab Notebooks/JPX_Competition/JQuants-news_leaderboard.csv')"
      ],
      "execution_count": 289,
      "outputs": []
    },
    {
      "cell_type": "code",
      "metadata": {
        "id": "OgzS6LZEecBa"
      },
      "source": [
        "lb_df = lb_df.replace({'-': np.nan}).dropna()\n",
        "lb_df['最終評価 ▼'] = lb_df['最終評価 ▼'].astype(float)\n",
        "lb_df['暫定評価'] = lb_df['暫定評価'].astype(float)\n",
        "lb_df['推論時間 (sec)'] = lb_df['推論時間 (sec)'].astype(float)\n",
        "lb_df['投稿件数'] = lb_df['投稿件数'].astype(float)\n",
        "lb_df['投稿日時'] = pd.to_datetime(lb_df['投稿日時'])\n",
        "\n",
        "lb_df.rename(columns={'最終評価 ▼': 'Private LB', '推論時間 (sec)': 'PredTimeSec', '暫定評価': 'Public LB', '投稿件数': 'Submissions', '投稿日時': 'LastSubTime'}, inplace=True)"
      ],
      "execution_count": 290,
      "outputs": []
    },
    {
      "cell_type": "code",
      "metadata": {
        "colab": {
          "base_uri": "https://localhost:8080/",
          "height": 204
        },
        "id": "mfuHTKt1Sewx",
        "outputId": "6780a63e-6bbb-45a1-fc28-231d3f3b248b"
      },
      "source": [
        "lb_df.head()"
      ],
      "execution_count": 291,
      "outputs": [
        {
          "output_type": "execute_result",
          "data": {
            "text/html": [
              "<div>\n",
              "<style scoped>\n",
              "    .dataframe tbody tr th:only-of-type {\n",
              "        vertical-align: middle;\n",
              "    }\n",
              "\n",
              "    .dataframe tbody tr th {\n",
              "        vertical-align: top;\n",
              "    }\n",
              "\n",
              "    .dataframe thead th {\n",
              "        text-align: right;\n",
              "    }\n",
              "</style>\n",
              "<table border=\"1\" class=\"dataframe\">\n",
              "  <thead>\n",
              "    <tr style=\"text-align: right;\">\n",
              "      <th></th>\n",
              "      <th>順位</th>\n",
              "      <th>チーム名 / ユーザ名</th>\n",
              "      <th>PredTimeSec</th>\n",
              "      <th>Public LB</th>\n",
              "      <th>Private LB</th>\n",
              "      <th>Submissions</th>\n",
              "      <th>LastSubTime</th>\n",
              "      <th>term</th>\n",
              "    </tr>\n",
              "  </thead>\n",
              "  <tbody>\n",
              "    <tr>\n",
              "      <th>0</th>\n",
              "      <td>1</td>\n",
              "      <td>Ken.Ken.</td>\n",
              "      <td>5198.650</td>\n",
              "      <td>25701.3</td>\n",
              "      <td>-6114.4</td>\n",
              "      <td>1.0</td>\n",
              "      <td>2021-05-17 19:26:15</td>\n",
              "      <td>1</td>\n",
              "    </tr>\n",
              "    <tr>\n",
              "      <th>1</th>\n",
              "      <td>2</td>\n",
              "      <td>nakayasu</td>\n",
              "      <td>5112.404</td>\n",
              "      <td>60157.0</td>\n",
              "      <td>-12551.0</td>\n",
              "      <td>5.0</td>\n",
              "      <td>2021-05-17 19:26:14</td>\n",
              "      <td>1</td>\n",
              "    </tr>\n",
              "    <tr>\n",
              "      <th>2</th>\n",
              "      <td>3</td>\n",
              "      <td>FYSignate1009</td>\n",
              "      <td>332.109</td>\n",
              "      <td>27829.0</td>\n",
              "      <td>-16534.0</td>\n",
              "      <td>3.0</td>\n",
              "      <td>2021-05-17 17:54:05</td>\n",
              "      <td>1</td>\n",
              "    </tr>\n",
              "    <tr>\n",
              "      <th>3</th>\n",
              "      <td>4</td>\n",
              "      <td>takyan</td>\n",
              "      <td>6481.370</td>\n",
              "      <td>23375.0</td>\n",
              "      <td>-17608.0</td>\n",
              "      <td>3.0</td>\n",
              "      <td>2021-05-17 19:36:04</td>\n",
              "      <td>1</td>\n",
              "    </tr>\n",
              "    <tr>\n",
              "      <th>4</th>\n",
              "      <td>5</td>\n",
              "      <td>client_first</td>\n",
              "      <td>11.917</td>\n",
              "      <td>87766.3</td>\n",
              "      <td>-19128.9</td>\n",
              "      <td>15.0</td>\n",
              "      <td>2021-05-17 17:51:20</td>\n",
              "      <td>1</td>\n",
              "    </tr>\n",
              "  </tbody>\n",
              "</table>\n",
              "</div>"
            ],
            "text/plain": [
              "  順位    チーム名 / ユーザ名  PredTimeSec  ...  Submissions         LastSubTime  term\n",
              "0  1       Ken.Ken.     5198.650  ...          1.0 2021-05-17 19:26:15     1\n",
              "1  2       nakayasu     5112.404  ...          5.0 2021-05-17 19:26:14     1\n",
              "2  3  FYSignate1009      332.109  ...          3.0 2021-05-17 17:54:05     1\n",
              "3  4         takyan     6481.370  ...          3.0 2021-05-17 19:36:04     1\n",
              "4  5   client_first       11.917  ...         15.0 2021-05-17 17:51:20     1\n",
              "\n",
              "[5 rows x 8 columns]"
            ]
          },
          "metadata": {
            "tags": []
          },
          "execution_count": 291
        }
      ]
    },
    {
      "cell_type": "code",
      "metadata": {
        "colab": {
          "base_uri": "https://localhost:8080/",
          "height": 295
        },
        "id": "tm5GFosZKOov",
        "outputId": "c353f3b2-227c-4e55-ffcf-52d60fcec6c3"
      },
      "source": [
        "df = lb_df['Private LB']\n",
        "fig, ax = plt.subplots(1, 1, figsize=(6, 4))\n",
        "ax.plot(df)\n",
        "ax.set_xlabel('rank')\n",
        "ax.set_ylabel('Private LB (1st week)')\n",
        "\n",
        "ax.title.set_text('Return Distribution of Competitors')"
      ],
      "execution_count": 292,
      "outputs": [
        {
          "output_type": "display_data",
          "data": {
            "image/png": "[encoded data removed]",
            "text/plain": [
              "<Figure size 432x288 with 1 Axes>"
            ]
          },
          "metadata": {
            "tags": [],
            "needs_background": "light"
          }
        }
      ]
    },
    {
      "cell_type": "markdown",
      "metadata": {
        "id": "6zb3IzoDD4Tz"
      },
      "source": [
        "まず、第一週のPrivate LB のスコアをプロットします。\n",
        "特異な2山の分布をしていますが、-2.0万円と-6.8万円付近にあるピークは、チュートリアルのモデルをそのまま提出したユーザの一群とおもわれます。"
      ]
    },
    {
      "cell_type": "code",
      "metadata": {
        "colab": {
          "base_uri": "https://localhost:8080/",
          "height": 363
        },
        "id": "0eOlFOMTdyHJ",
        "outputId": "8af5623d-397b-460d-8f29-aa5322564383"
      },
      "source": [
        "df = lb_df['Private LB']\n",
        "fig, ax = plt.subplots(1, 1, figsize=(6, 4))\n",
        "sns.histplot(df, bins=30, ax=ax)\n",
        "ax.title.set_text('Return Distribution of Competitors')\n",
        "\n",
        "print(f'mean: {df.mean():.0f}')\n",
        "print(f'std: {df.std():.0f}')\n",
        "print(f'p90: {df.quantile(.9):.0f}')\n",
        "print(f'median: {df.median():.0f}')"
      ],
      "execution_count": 293,
      "outputs": [
        {
          "output_type": "stream",
          "text": [
            "mean: -48286\n",
            "std: 23399\n",
            "p90: -20675\n",
            "median: -48685\n"
          ],
          "name": "stdout"
        },
        {
          "output_type": "display_data",
          "data": {
            "image/png": "[encoded data removed]",
            "text/plain": [
              "<Figure size 432x288 with 1 Axes>"
            ]
          },
          "metadata": {
            "tags": [],
            "needs_background": "light"
          }
        }
      ]
    },
    {
      "cell_type": "markdown",
      "metadata": {
        "id": "9ntOMB3BO88u"
      },
      "source": [
        "チュートリアルのモデルを除外した分布もプロットします。裾野の重い1山の分布です。"
      ]
    },
    {
      "cell_type": "code",
      "metadata": {
        "colab": {
          "base_uri": "https://localhost:8080/",
          "height": 378
        },
        "id": "SdOdxk7YOHUi",
        "outputId": "c3d5db9e-f8b9-4505-cd34-57feea44b80f"
      },
      "source": [
        "filter_tutorial = (lb_df['Private LB']!= -20675.0) & (lb_df['Private LB'] != -68681.0)\n",
        "df = lb_df.loc[filter_tutorial, 'Private LB']\n",
        "\n",
        "fig, ax = plt.subplots(1, 1, figsize=(6, 4))\n",
        "sns.histplot(df, bins=20, ax=ax, kde=True)\n",
        "ax.set_xlabel('Private LB (1st week)')\n",
        "ax.title.set_text('Return Distribution of Competitors\\n(Eliminated Trivial Models)')\n",
        "\n",
        "print(f'mean: {df.mean():.0f}')\n",
        "print(f'std: {df.std():.0f}')\n",
        "print(f'p90: {df.quantile(.9):.0f}')\n",
        "print(f'median: {df.median():.0f}')"
      ],
      "execution_count": 294,
      "outputs": [
        {
          "output_type": "stream",
          "text": [
            "mean: -47624\n",
            "std: 23335\n",
            "p90: -23404\n",
            "median: -41877\n"
          ],
          "name": "stdout"
        },
        {
          "output_type": "display_data",
          "data": {
            "image/png": "[encoded data removed]",
            "text/plain": [
              "<Figure size 432x288 with 1 Axes>"
            ]
          },
          "metadata": {
            "tags": [],
            "needs_background": "light"
          }
        }
      ]
    },
    {
      "cell_type": "markdown",
      "metadata": {
        "id": "dRoFSMcuZ1Ua"
      },
      "source": [
        "## 提出したモデルの統計的特徴"
      ]
    },
    {
      "cell_type": "markdown",
      "metadata": {
        "id": "O5trXzPZRWzh"
      },
      "source": [
        "参考までに、推論時間、Submission回数、Public LB, Private LB の4項目について相関をみてみます（以下の分析ではチュートリアルのモデルのスコアを除外しています）。"
      ]
    },
    {
      "cell_type": "code",
      "metadata": {
        "colab": {
          "base_uri": "https://localhost:8080/",
          "height": 173
        },
        "id": "ZkqsZ2g5VDax",
        "outputId": "2df9802e-0c61-4bdc-c668-905e49b8dafe"
      },
      "source": [
        "filter_tutorial = (lb_df['Private LB']!= -20675.0) & (lb_df['Private LB'] != -68681.0)\n",
        "df = lb_df.loc[filter_tutorial, ['PredTimeSec', 'Submissions', 'Public LB', 'Private LB']]\n",
        "df.corr('pearson').round(3)"
      ],
      "execution_count": 286,
      "outputs": [
        {
          "output_type": "execute_result",
          "data": {
            "text/html": [
              "<div>\n",
              "<style scoped>\n",
              "    .dataframe tbody tr th:only-of-type {\n",
              "        vertical-align: middle;\n",
              "    }\n",
              "\n",
              "    .dataframe tbody tr th {\n",
              "        vertical-align: top;\n",
              "    }\n",
              "\n",
              "    .dataframe thead th {\n",
              "        text-align: right;\n",
              "    }\n",
              "</style>\n",
              "<table border=\"1\" class=\"dataframe\">\n",
              "  <thead>\n",
              "    <tr style=\"text-align: right;\">\n",
              "      <th></th>\n",
              "      <th>PredTimeSec</th>\n",
              "      <th>Submissions</th>\n",
              "      <th>Public LB</th>\n",
              "      <th>Private LB</th>\n",
              "    </tr>\n",
              "  </thead>\n",
              "  <tbody>\n",
              "    <tr>\n",
              "      <th>PredTimeSec</th>\n",
              "      <td>1.000</td>\n",
              "      <td>-0.040</td>\n",
              "      <td>-0.321</td>\n",
              "      <td>0.143</td>\n",
              "    </tr>\n",
              "    <tr>\n",
              "      <th>Submissions</th>\n",
              "      <td>-0.040</td>\n",
              "      <td>1.000</td>\n",
              "      <td>0.381</td>\n",
              "      <td>-0.164</td>\n",
              "    </tr>\n",
              "    <tr>\n",
              "      <th>Public LB</th>\n",
              "      <td>-0.321</td>\n",
              "      <td>0.381</td>\n",
              "      <td>1.000</td>\n",
              "      <td>-0.187</td>\n",
              "    </tr>\n",
              "    <tr>\n",
              "      <th>Private LB</th>\n",
              "      <td>0.143</td>\n",
              "      <td>-0.164</td>\n",
              "      <td>-0.187</td>\n",
              "      <td>1.000</td>\n",
              "    </tr>\n",
              "  </tbody>\n",
              "</table>\n",
              "</div>"
            ],
            "text/plain": [
              "             PredTimeSec  Submissions  Public LB  Private LB\n",
              "PredTimeSec        1.000       -0.040     -0.321       0.143\n",
              "Submissions       -0.040        1.000      0.381      -0.164\n",
              "Public LB         -0.321        0.381      1.000      -0.187\n",
              "Private LB         0.143       -0.164     -0.187       1.000"
            ]
          },
          "metadata": {
            "tags": []
          },
          "execution_count": 286
        }
      ]
    },
    {
      "cell_type": "markdown",
      "metadata": {
        "id": "zNCdhV3IXZFv"
      },
      "source": [
        "まず、推論時間とPrivate LB に若干正の相関があります。第一週の評価では長考型モデルのほうが即答型のモデルに若干勝っているといえます。\n",
        "\n",
        "また、Public LB と Private LB は逆相関になっています。要因としては、Publicスコアが高いモデルは期待値が高くてリスクの高いポートフォリオを組んでいると思われるため、マイナスに触れたときのロスが大きいこと、また、Public のスコアに対して過学習してしまったことなどが考えられます。\n",
        "\n",
        "なお、興味深いことに、Submissioins と Public LB にはわりと強い正の相関があります。Public LB を改善するためにSubmissionを重ねたユーザが一定数いたことが想像できます。\n",
        "今回のコンペは課題の性質からいうと、Public LB のスコアはあまりあてにならなかったのですが、「目に見えるスコアを少しでもよくしたい」という人間特有の心理が働いたのかもしれません。"
      ]
    },
    {
      "cell_type": "code",
      "metadata": {
        "colab": {
          "base_uri": "https://localhost:8080/",
          "height": 743
        },
        "id": "XH9nNgJpZD3n",
        "outputId": "4b7b38e5-3dfa-4811-9364-ce6053339191"
      },
      "source": [
        "filter_tutorial = (lb_df['Private LB']!= -20675.0) & (lb_df['Private LB'] != -68681.0)\n",
        "df = lb_df.loc[filter_tutorial, ['PredTimeSec', 'Submissions', 'Public LB', 'Private LB']]\n",
        "sns.pairplot(df, corner=True, diag_kind='auto')"
      ],
      "execution_count": 174,
      "outputs": [
        {
          "output_type": "execute_result",
          "data": {
            "text/plain": [
              "<seaborn.axisgrid.PairGrid at 0x7f4d900ed210>"
            ]
          },
          "metadata": {
            "tags": []
          },
          "execution_count": 174
        },
        {
          "output_type": "display_data",
          "data": {
            "image/png": "[encoded data removed]",
            "text/plain": [
              "<Figure size 720x720 with 14 Axes>"
            ]
          },
          "metadata": {
            "tags": [],
            "needs_background": "light"
          }
        }
      ]
    },
    {
      "cell_type": "markdown",
      "metadata": {
        "id": "tJlQwctVvi2B"
      },
      "source": [
        "変数間のみかけの依存を排除するために、これらを排除した偏相関係数を求めます。\n",
        "\n",
        "pingouin ライブラリを使います。\n",
        "https://pingouin-stats.org/"
      ]
    },
    {
      "cell_type": "code",
      "metadata": {
        "colab": {
          "base_uri": "https://localhost:8080/"
        },
        "id": "A6SRuBEe2Jpf",
        "outputId": "cb20a843-6290-49d1-a1c2-eb4395f3b1df"
      },
      "source": [
        "! pip install pingouin"
      ],
      "execution_count": 228,
      "outputs": [
        {
          "output_type": "stream",
          "text": [
            "Requirement already satisfied: pingouin in /usr/local/lib/python3.7/dist-packages (0.3.11)\n",
            "Requirement already satisfied: scipy>=1.3 in /usr/local/lib/python3.7/dist-packages (from pingouin) (1.4.1)\n",
            "Requirement already satisfied: pandas>=0.24 in /usr/local/lib/python3.7/dist-packages (from pingouin) (1.1.5)\n",
            "Requirement already satisfied: tabulate in /usr/local/lib/python3.7/dist-packages (from pingouin) (0.8.9)\n",
            "Requirement already satisfied: seaborn>=0.9.0 in /usr/local/lib/python3.7/dist-packages (from pingouin) (0.11.1)\n",
            "Requirement already satisfied: outdated in /usr/local/lib/python3.7/dist-packages (from pingouin) (0.2.1)\n",
            "Requirement already satisfied: numpy>=1.15 in /usr/local/lib/python3.7/dist-packages (from pingouin) (1.19.5)\n",
            "Requirement already satisfied: pandas-flavor>=0.1.2 in /usr/local/lib/python3.7/dist-packages (from pingouin) (0.2.0)\n",
            "Requirement already satisfied: statsmodels>=0.10.0 in /usr/local/lib/python3.7/dist-packages (from pingouin) (0.10.2)\n",
            "Requirement already satisfied: matplotlib>=3.0.2 in /usr/local/lib/python3.7/dist-packages (from pingouin) (3.2.2)\n",
            "Requirement already satisfied: scikit-learn in /usr/local/lib/python3.7/dist-packages (from pingouin) (0.22.2.post1)\n",
            "Requirement already satisfied: pytz>=2017.2 in /usr/local/lib/python3.7/dist-packages (from pandas>=0.24->pingouin) (2018.9)\n",
            "Requirement already satisfied: python-dateutil>=2.7.3 in /usr/local/lib/python3.7/dist-packages (from pandas>=0.24->pingouin) (2.8.1)\n",
            "Requirement already satisfied: requests in /usr/local/lib/python3.7/dist-packages (from outdated->pingouin) (2.23.0)\n",
            "Requirement already satisfied: littleutils in /usr/local/lib/python3.7/dist-packages (from outdated->pingouin) (0.2.2)\n",
            "Requirement already satisfied: xarray in /usr/local/lib/python3.7/dist-packages (from pandas-flavor>=0.1.2->pingouin) (0.18.0)\n",
            "Requirement already satisfied: patsy>=0.4.0 in /usr/local/lib/python3.7/dist-packages (from statsmodels>=0.10.0->pingouin) (0.5.1)\n",
            "Requirement already satisfied: kiwisolver>=1.0.1 in /usr/local/lib/python3.7/dist-packages (from matplotlib>=3.0.2->pingouin) (1.3.1)\n",
            "Requirement already satisfied: pyparsing!=2.0.4,!=2.1.2,!=2.1.6,>=2.0.1 in /usr/local/lib/python3.7/dist-packages (from matplotlib>=3.0.2->pingouin) (2.4.7)\n",
            "Requirement already satisfied: cycler>=0.10 in /usr/local/lib/python3.7/dist-packages (from matplotlib>=3.0.2->pingouin) (0.10.0)\n",
            "Requirement already satisfied: joblib>=0.11 in /usr/local/lib/python3.7/dist-packages (from scikit-learn->pingouin) (1.0.1)\n",
            "Requirement already satisfied: six>=1.5 in /usr/local/lib/python3.7/dist-packages (from python-dateutil>=2.7.3->pandas>=0.24->pingouin) (1.15.0)\n",
            "Requirement already satisfied: certifi>=2017.4.17 in /usr/local/lib/python3.7/dist-packages (from requests->outdated->pingouin) (2020.12.5)\n",
            "Requirement already satisfied: idna<3,>=2.5 in /usr/local/lib/python3.7/dist-packages (from requests->outdated->pingouin) (2.10)\n",
            "Requirement already satisfied: urllib3!=1.25.0,!=1.25.1,<1.26,>=1.21.1 in /usr/local/lib/python3.7/dist-packages (from requests->outdated->pingouin) (1.24.3)\n",
            "Requirement already satisfied: chardet<4,>=3.0.2 in /usr/local/lib/python3.7/dist-packages (from requests->outdated->pingouin) (3.0.4)\n",
            "Requirement already satisfied: setuptools>=40.4 in /usr/local/lib/python3.7/dist-packages (from xarray->pandas-flavor>=0.1.2->pingouin) (56.1.0)\n"
          ],
          "name": "stdout"
        }
      ]
    },
    {
      "cell_type": "code",
      "metadata": {
        "id": "3y7z5f-G2NG-"
      },
      "source": [
        "import pingouin as pg"
      ],
      "execution_count": 229,
      "outputs": []
    },
    {
      "cell_type": "code",
      "metadata": {
        "colab": {
          "base_uri": "https://localhost:8080/",
          "height": 173
        },
        "id": "41O8v8sB2jRG",
        "outputId": "d8686fff-971c-46e1-ed4c-cac6911105b0"
      },
      "source": [
        "pg.pcorr(df).round(3)"
      ],
      "execution_count": 244,
      "outputs": [
        {
          "output_type": "execute_result",
          "data": {
            "text/html": [
              "<div>\n",
              "<style scoped>\n",
              "    .dataframe tbody tr th:only-of-type {\n",
              "        vertical-align: middle;\n",
              "    }\n",
              "\n",
              "    .dataframe tbody tr th {\n",
              "        vertical-align: top;\n",
              "    }\n",
              "\n",
              "    .dataframe thead th {\n",
              "        text-align: right;\n",
              "    }\n",
              "</style>\n",
              "<table border=\"1\" class=\"dataframe\">\n",
              "  <thead>\n",
              "    <tr style=\"text-align: right;\">\n",
              "      <th></th>\n",
              "      <th>PredTimeSec</th>\n",
              "      <th>Submissions</th>\n",
              "      <th>Public LB</th>\n",
              "      <th>Private LB</th>\n",
              "    </tr>\n",
              "  </thead>\n",
              "  <tbody>\n",
              "    <tr>\n",
              "      <th>PredTimeSec</th>\n",
              "      <td>1.000</td>\n",
              "      <td>0.104</td>\n",
              "      <td>-0.318</td>\n",
              "      <td>0.100</td>\n",
              "    </tr>\n",
              "    <tr>\n",
              "      <th>Submissions</th>\n",
              "      <td>0.104</td>\n",
              "      <td>1.000</td>\n",
              "      <td>0.374</td>\n",
              "      <td>-0.111</td>\n",
              "    </tr>\n",
              "    <tr>\n",
              "      <th>Public LB</th>\n",
              "      <td>-0.318</td>\n",
              "      <td>0.374</td>\n",
              "      <td>1.000</td>\n",
              "      <td>-0.097</td>\n",
              "    </tr>\n",
              "    <tr>\n",
              "      <th>Private LB</th>\n",
              "      <td>0.100</td>\n",
              "      <td>-0.111</td>\n",
              "      <td>-0.097</td>\n",
              "      <td>1.000</td>\n",
              "    </tr>\n",
              "  </tbody>\n",
              "</table>\n",
              "</div>"
            ],
            "text/plain": [
              "             PredTimeSec  Submissions  Public LB  Private LB\n",
              "PredTimeSec        1.000        0.104     -0.318       0.100\n",
              "Submissions        0.104        1.000      0.374      -0.111\n",
              "Public LB         -0.318        0.374      1.000      -0.097\n",
              "Private LB         0.100       -0.111     -0.097       1.000"
            ]
          },
          "metadata": {
            "tags": []
          },
          "execution_count": 244
        }
      ]
    },
    {
      "cell_type": "markdown",
      "metadata": {
        "id": "znwMbA7dwefp"
      },
      "source": [
        "Submission と Private LB にいくらか相関があります。また、PredTimeSecとPublicLBにいくらか負の相関があります。\n",
        "\n",
        "逆に、Public LB と Private LBの相関は小さくなっています。"
      ]
    },
    {
      "cell_type": "markdown",
      "metadata": {
        "id": "ceiJZyaQ5cTO"
      },
      "source": [
        "PredTimeSec, Submissions, Public LB の偏相関についてもう少し詳しく分析します。\n",
        "\n",
        "ペアごとの偏相関の結果から、以下のことがわかります：\n",
        "\n",
        "* 推論時間はPublicLBと負の相関がある\n",
        "* サブミッション数はPublic LB と正の相関がある\n",
        "* 推論時間とサブミッション数には相関があるとはいえない\n",
        "\n",
        "なお、Private LB はモデル提出の時点でわからない値なので、偏相関を計算するときの制御変数からは除外しています。"
      ]
    },
    {
      "cell_type": "code",
      "metadata": {
        "colab": {
          "base_uri": "https://localhost:8080/",
          "height": 80
        },
        "id": "dknBwY0q5Pl2",
        "outputId": "a4bad2b3-4671-491f-d06d-474a48c2484b"
      },
      "source": [
        "pg.partial_corr(df, x='Submissions', y='Public LB', covar=['PredTimeSec'])"
      ],
      "execution_count": 240,
      "outputs": [
        {
          "output_type": "execute_result",
          "data": {
            "text/html": [
              "<div>\n",
              "<style scoped>\n",
              "    .dataframe tbody tr th:only-of-type {\n",
              "        vertical-align: middle;\n",
              "    }\n",
              "\n",
              "    .dataframe tbody tr th {\n",
              "        vertical-align: top;\n",
              "    }\n",
              "\n",
              "    .dataframe thead th {\n",
              "        text-align: right;\n",
              "    }\n",
              "</style>\n",
              "<table border=\"1\" class=\"dataframe\">\n",
              "  <thead>\n",
              "    <tr style=\"text-align: right;\">\n",
              "      <th></th>\n",
              "      <th>n</th>\n",
              "      <th>r</th>\n",
              "      <th>CI95%</th>\n",
              "      <th>r2</th>\n",
              "      <th>adj_r2</th>\n",
              "      <th>p-val</th>\n",
              "      <th>BF10</th>\n",
              "      <th>power</th>\n",
              "    </tr>\n",
              "  </thead>\n",
              "  <tbody>\n",
              "    <tr>\n",
              "      <th>pearson</th>\n",
              "      <td>92</td>\n",
              "      <td>0.389362</td>\n",
              "      <td>[0.2, 0.55]</td>\n",
              "      <td>0.151603</td>\n",
              "      <td>0.132538</td>\n",
              "      <td>0.000125</td>\n",
              "      <td>181.884</td>\n",
              "      <td>0.9736</td>\n",
              "    </tr>\n",
              "  </tbody>\n",
              "</table>\n",
              "</div>"
            ],
            "text/plain": [
              "          n         r        CI95%  ...     p-val     BF10   power\n",
              "pearson  92  0.389362  [0.2, 0.55]  ...  0.000125  181.884  0.9736\n",
              "\n",
              "[1 rows x 8 columns]"
            ]
          },
          "metadata": {
            "tags": []
          },
          "execution_count": 240
        }
      ]
    },
    {
      "cell_type": "code",
      "metadata": {
        "colab": {
          "base_uri": "https://localhost:8080/",
          "height": 80
        },
        "id": "mGpdUNTa9FPF",
        "outputId": "b8e002da-a2d8-4d7a-f870-2f4f6b43a211"
      },
      "source": [
        "pg.partial_corr(df, x='PredTimeSec', y='Public LB', covar=['Submissions'])"
      ],
      "execution_count": 245,
      "outputs": [
        {
          "output_type": "execute_result",
          "data": {
            "text/html": [
              "<div>\n",
              "<style scoped>\n",
              "    .dataframe tbody tr th:only-of-type {\n",
              "        vertical-align: middle;\n",
              "    }\n",
              "\n",
              "    .dataframe tbody tr th {\n",
              "        vertical-align: top;\n",
              "    }\n",
              "\n",
              "    .dataframe thead th {\n",
              "        text-align: right;\n",
              "    }\n",
              "</style>\n",
              "<table border=\"1\" class=\"dataframe\">\n",
              "  <thead>\n",
              "    <tr style=\"text-align: right;\">\n",
              "      <th></th>\n",
              "      <th>n</th>\n",
              "      <th>r</th>\n",
              "      <th>CI95%</th>\n",
              "      <th>r2</th>\n",
              "      <th>adj_r2</th>\n",
              "      <th>p-val</th>\n",
              "      <th>BF10</th>\n",
              "      <th>power</th>\n",
              "    </tr>\n",
              "  </thead>\n",
              "  <tbody>\n",
              "    <tr>\n",
              "      <th>pearson</th>\n",
              "      <td>92</td>\n",
              "      <td>-0.331129</td>\n",
              "      <td>[-0.5, -0.14]</td>\n",
              "      <td>0.109646</td>\n",
              "      <td>0.089638</td>\n",
              "      <td>0.001264</td>\n",
              "      <td>21.703</td>\n",
              "      <td>0.903527</td>\n",
              "    </tr>\n",
              "  </tbody>\n",
              "</table>\n",
              "</div>"
            ],
            "text/plain": [
              "          n         r          CI95%  ...     p-val    BF10     power\n",
              "pearson  92 -0.331129  [-0.5, -0.14]  ...  0.001264  21.703  0.903527\n",
              "\n",
              "[1 rows x 8 columns]"
            ]
          },
          "metadata": {
            "tags": []
          },
          "execution_count": 245
        }
      ]
    },
    {
      "cell_type": "code",
      "metadata": {
        "colab": {
          "base_uri": "https://localhost:8080/",
          "height": 80
        },
        "id": "cX0tFyEU9SPN",
        "outputId": "f4e55d77-7d18-431c-b00e-3a2692b2e2a5"
      },
      "source": [
        "pg.partial_corr(df, x='Submissions', y='PredTimeSec', covar=[])"
      ],
      "execution_count": 246,
      "outputs": [
        {
          "output_type": "execute_result",
          "data": {
            "text/html": [
              "<div>\n",
              "<style scoped>\n",
              "    .dataframe tbody tr th:only-of-type {\n",
              "        vertical-align: middle;\n",
              "    }\n",
              "\n",
              "    .dataframe tbody tr th {\n",
              "        vertical-align: top;\n",
              "    }\n",
              "\n",
              "    .dataframe thead th {\n",
              "        text-align: right;\n",
              "    }\n",
              "</style>\n",
              "<table border=\"1\" class=\"dataframe\">\n",
              "  <thead>\n",
              "    <tr style=\"text-align: right;\">\n",
              "      <th></th>\n",
              "      <th>n</th>\n",
              "      <th>r</th>\n",
              "      <th>CI95%</th>\n",
              "      <th>r2</th>\n",
              "      <th>adj_r2</th>\n",
              "      <th>p-val</th>\n",
              "      <th>BF10</th>\n",
              "      <th>power</th>\n",
              "    </tr>\n",
              "  </thead>\n",
              "  <tbody>\n",
              "    <tr>\n",
              "      <th>pearson</th>\n",
              "      <td>92</td>\n",
              "      <td>-0.040343</td>\n",
              "      <td>[-0.24, 0.17]</td>\n",
              "      <td>0.001628</td>\n",
              "      <td>-0.020808</td>\n",
              "      <td>0.702597</td>\n",
              "      <td>0.14</td>\n",
              "      <td>0.06675</td>\n",
              "    </tr>\n",
              "  </tbody>\n",
              "</table>\n",
              "</div>"
            ],
            "text/plain": [
              "          n         r          CI95%  ...     p-val  BF10    power\n",
              "pearson  92 -0.040343  [-0.24, 0.17]  ...  0.702597  0.14  0.06675\n",
              "\n",
              "[1 rows x 8 columns]"
            ]
          },
          "metadata": {
            "tags": []
          },
          "execution_count": 246
        }
      ]
    },
    {
      "cell_type": "markdown",
      "metadata": {
        "id": "VH7XyCpQ7P-l"
      },
      "source": [
        "次に、推論時間、サブミッション数、Public LBとPrivate LBの偏相関について同様の分析をします。\n",
        "\n",
        "* サブミッション数、推論時間、Public LB のいずれも、 Private LB と相関があるとはいえない"
      ]
    },
    {
      "cell_type": "code",
      "metadata": {
        "colab": {
          "base_uri": "https://localhost:8080/",
          "height": 80
        },
        "id": "IUr1Zls645-o",
        "outputId": "1ebc907a-df4e-4410-90fa-55a4a90c3a78"
      },
      "source": [
        "pg.partial_corr(df, x='Public LB', y='Private LB', covar=['Submissions', 'PredTimeSec'])"
      ],
      "execution_count": 275,
      "outputs": [
        {
          "output_type": "execute_result",
          "data": {
            "text/html": [
              "<div>\n",
              "<style scoped>\n",
              "    .dataframe tbody tr th:only-of-type {\n",
              "        vertical-align: middle;\n",
              "    }\n",
              "\n",
              "    .dataframe tbody tr th {\n",
              "        vertical-align: top;\n",
              "    }\n",
              "\n",
              "    .dataframe thead th {\n",
              "        text-align: right;\n",
              "    }\n",
              "</style>\n",
              "<table border=\"1\" class=\"dataframe\">\n",
              "  <thead>\n",
              "    <tr style=\"text-align: right;\">\n",
              "      <th></th>\n",
              "      <th>n</th>\n",
              "      <th>r</th>\n",
              "      <th>CI95%</th>\n",
              "      <th>r2</th>\n",
              "      <th>adj_r2</th>\n",
              "      <th>p-val</th>\n",
              "      <th>BF10</th>\n",
              "      <th>power</th>\n",
              "    </tr>\n",
              "  </thead>\n",
              "  <tbody>\n",
              "    <tr>\n",
              "      <th>pearson</th>\n",
              "      <td>92</td>\n",
              "      <td>-0.097214</td>\n",
              "      <td>[-0.3, 0.11]</td>\n",
              "      <td>0.009451</td>\n",
              "      <td>-0.012809</td>\n",
              "      <td>0.356591</td>\n",
              "      <td>0.198</td>\n",
              "      <td>0.151959</td>\n",
              "    </tr>\n",
              "  </tbody>\n",
              "</table>\n",
              "</div>"
            ],
            "text/plain": [
              "          n         r         CI95%  ...     p-val   BF10     power\n",
              "pearson  92 -0.097214  [-0.3, 0.11]  ...  0.356591  0.198  0.151959\n",
              "\n",
              "[1 rows x 8 columns]"
            ]
          },
          "metadata": {
            "tags": []
          },
          "execution_count": 275
        }
      ]
    },
    {
      "cell_type": "code",
      "metadata": {
        "colab": {
          "base_uri": "https://localhost:8080/",
          "height": 80
        },
        "id": "mg4ktTghDXEH",
        "outputId": "2b1eb89d-a1c9-4eec-ebf5-36fb99506c5e"
      },
      "source": [
        "pg.partial_corr(df, x='Submissions', y='Private LB', covar=['Public LB', 'PredTimeSec'])"
      ],
      "execution_count": 276,
      "outputs": [
        {
          "output_type": "execute_result",
          "data": {
            "text/html": [
              "<div>\n",
              "<style scoped>\n",
              "    .dataframe tbody tr th:only-of-type {\n",
              "        vertical-align: middle;\n",
              "    }\n",
              "\n",
              "    .dataframe tbody tr th {\n",
              "        vertical-align: top;\n",
              "    }\n",
              "\n",
              "    .dataframe thead th {\n",
              "        text-align: right;\n",
              "    }\n",
              "</style>\n",
              "<table border=\"1\" class=\"dataframe\">\n",
              "  <thead>\n",
              "    <tr style=\"text-align: right;\">\n",
              "      <th></th>\n",
              "      <th>n</th>\n",
              "      <th>r</th>\n",
              "      <th>CI95%</th>\n",
              "      <th>r2</th>\n",
              "      <th>adj_r2</th>\n",
              "      <th>p-val</th>\n",
              "      <th>BF10</th>\n",
              "      <th>power</th>\n",
              "    </tr>\n",
              "  </thead>\n",
              "  <tbody>\n",
              "    <tr>\n",
              "      <th>pearson</th>\n",
              "      <td>92</td>\n",
              "      <td>-0.111312</td>\n",
              "      <td>[-0.31, 0.1]</td>\n",
              "      <td>0.01239</td>\n",
              "      <td>-0.009803</td>\n",
              "      <td>0.290807</td>\n",
              "      <td>0.226</td>\n",
              "      <td>0.185</td>\n",
              "    </tr>\n",
              "  </tbody>\n",
              "</table>\n",
              "</div>"
            ],
            "text/plain": [
              "          n         r         CI95%       r2    adj_r2     p-val   BF10  power\n",
              "pearson  92 -0.111312  [-0.31, 0.1]  0.01239 -0.009803  0.290807  0.226  0.185"
            ]
          },
          "metadata": {
            "tags": []
          },
          "execution_count": 276
        }
      ]
    },
    {
      "cell_type": "code",
      "metadata": {
        "colab": {
          "base_uri": "https://localhost:8080/",
          "height": 80
        },
        "id": "4u6DuePlDXG6",
        "outputId": "5c7e1a68-e0ea-489c-9204-d8d5251b3a99"
      },
      "source": [
        "pg.partial_corr(df, x='PredTimeSec', y='Private LB',  covar=['Submissions', 'Public LB'])"
      ],
      "execution_count": 277,
      "outputs": [
        {
          "output_type": "execute_result",
          "data": {
            "text/html": [
              "<div>\n",
              "<style scoped>\n",
              "    .dataframe tbody tr th:only-of-type {\n",
              "        vertical-align: middle;\n",
              "    }\n",
              "\n",
              "    .dataframe tbody tr th {\n",
              "        vertical-align: top;\n",
              "    }\n",
              "\n",
              "    .dataframe thead th {\n",
              "        text-align: right;\n",
              "    }\n",
              "</style>\n",
              "<table border=\"1\" class=\"dataframe\">\n",
              "  <thead>\n",
              "    <tr style=\"text-align: right;\">\n",
              "      <th></th>\n",
              "      <th>n</th>\n",
              "      <th>r</th>\n",
              "      <th>CI95%</th>\n",
              "      <th>r2</th>\n",
              "      <th>adj_r2</th>\n",
              "      <th>p-val</th>\n",
              "      <th>BF10</th>\n",
              "      <th>power</th>\n",
              "    </tr>\n",
              "  </thead>\n",
              "  <tbody>\n",
              "    <tr>\n",
              "      <th>pearson</th>\n",
              "      <td>92</td>\n",
              "      <td>0.099874</td>\n",
              "      <td>[-0.11, 0.3]</td>\n",
              "      <td>0.009975</td>\n",
              "      <td>-0.012273</td>\n",
              "      <td>0.343521</td>\n",
              "      <td>0.203</td>\n",
              "      <td>0.157826</td>\n",
              "    </tr>\n",
              "  </tbody>\n",
              "</table>\n",
              "</div>"
            ],
            "text/plain": [
              "          n         r         CI95%  ...     p-val   BF10     power\n",
              "pearson  92  0.099874  [-0.11, 0.3]  ...  0.343521  0.203  0.157826\n",
              "\n",
              "[1 rows x 8 columns]"
            ]
          },
          "metadata": {
            "tags": []
          },
          "execution_count": 277
        }
      ]
    },
    {
      "cell_type": "markdown",
      "metadata": {
        "id": "H1UdnFjP3kCF"
      },
      "source": [
        "最後のコードはおまけで、偏相関係数が0.3以上の特徴量どうしを線でつないだグラフを表示します。\n",
        "\n",
        "コードはこちらから借りました。\n",
        "https://qiita.com/studio_haneya/items/0a67b951e0e72670cd6f"
      ]
    },
    {
      "cell_type": "code",
      "metadata": {
        "colab": {
          "base_uri": "https://localhost:8080/",
          "height": 172
        },
        "id": "60reHGtPvSkr",
        "outputId": "ae47de60-68c0-4c4a-8721-daa273745a97"
      },
      "source": [
        "from graphviz import Graph\n",
        "from PIL import Image\n",
        "\n",
        "def draw_graph(cm, threshold):\n",
        "    edges = np.where(np.abs(cm) > threshold)\n",
        "    edges = [[cm.index[i], cm.index[j]] for i, j in zip(edges[0], edges[1]) if i > j]\n",
        "\n",
        "    g = Graph(format='png')\n",
        "    for k in range(cm.shape[0]):\n",
        "        g.node(cm.index[k])\n",
        "\n",
        "    for i, j in edges:\n",
        "        g.edge(j, i)\n",
        "\n",
        "    g.render(filename='../test', format='png', cleanup=True, directory=None)\n",
        "    display(Image.open('../test.png'))\n",
        "\n",
        "threshold = 0.3\n",
        "draw_graph(pg.pcorr(df), threshold)"
      ],
      "execution_count": 235,
      "outputs": [
        {
          "output_type": "display_data",
          "data": {
            "image/png": "[encoded data removed]",
            "text/plain": [
              "<PIL.PngImagePlugin.PngImageFile image mode=RGBA size=510x155 at 0x7F4D8BAF6F10>"
            ]
          },
          "metadata": {
            "tags": []
          }
        }
      ]
    },
    {
      "cell_type": "markdown",
      "metadata": {
        "id": "oYl9rLL3OXxU"
      },
      "source": [
        "## Live評価時刻と推論時間の関係\n",
        "\n",
        "面白いことに、Live評価時刻と推論時間には明確な線形の関係があります。\n",
        "Live評価時刻から推論時間を引くと、すべてのサブミッションがほぼ同じ時刻に推論を開始したことがわかります。\n",
        "SIGNATEのLIVE評価すべてのサブミッションを同時並行で処理していることがわかります。"
      ]
    },
    {
      "cell_type": "code",
      "metadata": {
        "colab": {
          "base_uri": "https://localhost:8080/",
          "height": 383
        },
        "id": "ajK3bkdwNZ8s",
        "outputId": "08ce5451-7ef5-4bec-90b3-967284e3bcac"
      },
      "source": [
        "fig, ax = plt.subplots(1, 2, figsize=(12, 4))\n",
        "lb_df['LastSubStartTime'] = lb_df['LastSubTime'] - lb_df['PredTimeSec'].apply(lambda x: pd.Timedelta(f'{x} sec'))\n",
        "\n",
        "sns.scatterplot('LastSubStartTime', 'PredTimeSec', data=lb_df, ax=ax[0])\n",
        "sns.scatterplot('LastSubTime', 'PredTimeSec', data=lb_df, ax=ax[1])\n",
        "\n",
        "ax[1].title.set_text('Pred Time & Pred Complete Time')\n",
        "ax[0].title.set_text('Pred Time & Pred Start Time')"
      ],
      "execution_count": 307,
      "outputs": [
        {
          "output_type": "stream",
          "text": [
            "/usr/local/lib/python3.7/dist-packages/seaborn/_decorators.py:43: FutureWarning: Pass the following variables as keyword args: x, y. From version 0.12, the only valid positional argument will be `data`, and passing other arguments without an explicit keyword will result in an error or misinterpretation.\n",
            "  FutureWarning\n",
            "/usr/local/lib/python3.7/dist-packages/seaborn/_decorators.py:43: FutureWarning: Pass the following variables as keyword args: x, y. From version 0.12, the only valid positional argument will be `data`, and passing other arguments without an explicit keyword will result in an error or misinterpretation.\n",
            "  FutureWarning\n"
          ],
          "name": "stderr"
        },
        {
          "output_type": "display_data",
          "data": {
            "image/png": "[encoded data removed]",
            "text/plain": [
              "<Figure size 864x288 with 2 Axes>"
            ]
          },
          "metadata": {
            "tags": [],
            "needs_background": "light"
          }
        }
      ]
    },
    {
      "cell_type": "markdown",
      "metadata": {
        "id": "ifSpTLqiaUxm"
      },
      "source": [
        "## 最後に\n",
        "\n",
        "第一週は残念ながらすべてのモデルがマイナス評価となりました。\n",
        "学習に使った特徴量では説明のつかない要因によって、市場が大きく影響を受けたことが想像できます（詳しい原因の分析と考察は専門家におまかせします）。\n",
        "\n",
        "第二週はプラス評価のモデルが出ることを祈ります。"
      ]
    }
  ]
}
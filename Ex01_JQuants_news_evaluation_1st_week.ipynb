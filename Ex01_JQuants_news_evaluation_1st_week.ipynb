{
  "nbformat": 4,
  "nbformat_minor": 0,
  "metadata": {
    "colab": {
      "name": "Ex01-JQuants-news-evaluation-1st-week.ipynb",
      "provenance": [],
      "collapsed_sections": [],
      "mount_file_id": "1Fn53dUjnVy9LlOY7Ac6MieNRauXtfhsq",
      "authorship_tag": "ABX9TyN4iepY78y4Q40lkx8hDcm+",
      "include_colab_link": true
    },
    "kernelspec": {
      "name": "python3",
      "display_name": "Python 3"
    },
    "language_info": {
      "name": "python"
    }
  },
  "cells": [
    {
      "cell_type": "markdown",
      "metadata": {
        "id": "view-in-github",
        "colab_type": "text"
      },
      "source": [
        "<a href=\"https://colab.research.google.com/github/bilzard/JQuants-news/blob/main/Ex01_JQuants_news_evaluation_1st_week.ipynb\" target=\"_parent\"><img src=\"https://colab.research.google.com/assets/colab-badge.svg\" alt=\"Open In Colab\"/></a>"
      ]
    },
    {
      "cell_type": "markdown",
      "metadata": {
        "id": "03lA0NomGZCl"
      },
      "source": [
        "# はじめに\n",
        "\n",
        "評価期間第一週に提出した全参加者のスコアの分布と、提出したモデルの統計的な特徴について簡単に調べてみました。"
      ]
    },
    {
      "cell_type": "code",
      "metadata": {
        "colab": {
          "base_uri": "https://localhost:8080/"
        },
        "id": "cQwxkPdac1nT",
        "outputId": "f63d3271-316c-4ce5-df1d-e06d44f7938f"
      },
      "source": [
        "from google.colab import drive\n",
        "drive.mount('/content/drive')"
      ],
      "execution_count": 1,
      "outputs": [
        {
          "output_type": "stream",
          "text": [
            "Drive already mounted at /content/drive; to attempt to forcibly remount, call drive.mount(\"/content/drive\", force_remount=True).\n"
          ],
          "name": "stdout"
        }
      ]
    },
    {
      "cell_type": "code",
      "metadata": {
        "id": "UqcKuYqJc2Zg"
      },
      "source": [
        "import os\n",
        "\n",
        "import pandas as pd\n",
        "import numpy as np\n",
        "import matplotlib.pyplot as plt\n",
        "import seaborn as sns\n",
        "from scipy import stats"
      ],
      "execution_count": 22,
      "outputs": []
    },
    {
      "cell_type": "markdown",
      "metadata": {
        "id": "IQW0MMnccLfp"
      },
      "source": [
        "データソースはSIGNATEのPrivateLBをコピペしたものを加工して作っています。"
      ]
    },
    {
      "cell_type": "code",
      "metadata": {
        "id": "dCk3sei2dBo0"
      },
      "source": [
        "lb_df = pd.read_csv('/content/drive/MyDrive/Colab Notebooks/JPX_Competition/JQuants-news_leaderboard.csv')"
      ],
      "execution_count": 116,
      "outputs": []
    },
    {
      "cell_type": "code",
      "metadata": {
        "id": "OgzS6LZEecBa"
      },
      "source": [
        "lb_df = lb_df.replace({'-': np.nan}).dropna()\n",
        "lb_df['最終評価 ▼'] = lb_df['最終評価 ▼'].astype(float)\n",
        "lb_df['暫定評価'] = lb_df['暫定評価'].astype(float)\n",
        "lb_df['推論時間 (sec)'] = lb_df['推論時間 (sec)'].astype(float)\n",
        "lb_df['投稿件数'] = lb_df['投稿件数'].astype(float)\n",
        "\n",
        "lb_df.rename(columns={'最終評価 ▼': 'Private LB', '推論時間 (sec)': 'PredTimeSec', '暫定評価': 'Public LB', '投稿件数': 'Submitions'}, inplace=True)"
      ],
      "execution_count": 117,
      "outputs": []
    },
    {
      "cell_type": "code",
      "metadata": {
        "colab": {
          "base_uri": "https://localhost:8080/",
          "height": 204
        },
        "id": "mfuHTKt1Sewx",
        "outputId": "ddf0648d-c287-4ade-be04-4b7203b6fe7d"
      },
      "source": [
        "lb_df.head()"
      ],
      "execution_count": 118,
      "outputs": [
        {
          "output_type": "execute_result",
          "data": {
            "text/html": [
              "<div>\n",
              "<style scoped>\n",
              "    .dataframe tbody tr th:only-of-type {\n",
              "        vertical-align: middle;\n",
              "    }\n",
              "\n",
              "    .dataframe tbody tr th {\n",
              "        vertical-align: top;\n",
              "    }\n",
              "\n",
              "    .dataframe thead th {\n",
              "        text-align: right;\n",
              "    }\n",
              "</style>\n",
              "<table border=\"1\" class=\"dataframe\">\n",
              "  <thead>\n",
              "    <tr style=\"text-align: right;\">\n",
              "      <th></th>\n",
              "      <th>順位</th>\n",
              "      <th>チーム名 / ユーザ名</th>\n",
              "      <th>PredTimeSec</th>\n",
              "      <th>Public LB</th>\n",
              "      <th>Private LB</th>\n",
              "      <th>Submitions</th>\n",
              "      <th>投稿日時</th>\n",
              "      <th>term</th>\n",
              "    </tr>\n",
              "  </thead>\n",
              "  <tbody>\n",
              "    <tr>\n",
              "      <th>0</th>\n",
              "      <td>1</td>\n",
              "      <td>Ken.Ken.</td>\n",
              "      <td>5198.650</td>\n",
              "      <td>25701.3</td>\n",
              "      <td>-6114.4</td>\n",
              "      <td>1.0</td>\n",
              "      <td>2021-05-17 19:26:15</td>\n",
              "      <td>1</td>\n",
              "    </tr>\n",
              "    <tr>\n",
              "      <th>1</th>\n",
              "      <td>2</td>\n",
              "      <td>nakayasu</td>\n",
              "      <td>5112.404</td>\n",
              "      <td>60157.0</td>\n",
              "      <td>-12551.0</td>\n",
              "      <td>5.0</td>\n",
              "      <td>2021-05-17 19:26:14</td>\n",
              "      <td>1</td>\n",
              "    </tr>\n",
              "    <tr>\n",
              "      <th>2</th>\n",
              "      <td>3</td>\n",
              "      <td>FYSignate1009</td>\n",
              "      <td>332.109</td>\n",
              "      <td>27829.0</td>\n",
              "      <td>-16534.0</td>\n",
              "      <td>3.0</td>\n",
              "      <td>2021-05-17 17:54:05</td>\n",
              "      <td>1</td>\n",
              "    </tr>\n",
              "    <tr>\n",
              "      <th>3</th>\n",
              "      <td>4</td>\n",
              "      <td>takyan</td>\n",
              "      <td>6481.370</td>\n",
              "      <td>23375.0</td>\n",
              "      <td>-17608.0</td>\n",
              "      <td>3.0</td>\n",
              "      <td>2021-05-17 19:36:04</td>\n",
              "      <td>1</td>\n",
              "    </tr>\n",
              "    <tr>\n",
              "      <th>4</th>\n",
              "      <td>5</td>\n",
              "      <td>client_first</td>\n",
              "      <td>11.917</td>\n",
              "      <td>87766.3</td>\n",
              "      <td>-19128.9</td>\n",
              "      <td>15.0</td>\n",
              "      <td>2021-05-17 17:51:20</td>\n",
              "      <td>1</td>\n",
              "    </tr>\n",
              "  </tbody>\n",
              "</table>\n",
              "</div>"
            ],
            "text/plain": [
              "  順位    チーム名 / ユーザ名  PredTimeSec  ...  Submitions                 投稿日時  term\n",
              "0  1       Ken.Ken.     5198.650  ...         1.0  2021-05-17 19:26:15     1\n",
              "1  2       nakayasu     5112.404  ...         5.0  2021-05-17 19:26:14     1\n",
              "2  3  FYSignate1009      332.109  ...         3.0  2021-05-17 17:54:05     1\n",
              "3  4         takyan     6481.370  ...         3.0  2021-05-17 19:36:04     1\n",
              "4  5   client_first       11.917  ...        15.0  2021-05-17 17:51:20     1\n",
              "\n",
              "[5 rows x 8 columns]"
            ]
          },
          "metadata": {
            "tags": []
          },
          "execution_count": 118
        }
      ]
    },
    {
      "cell_type": "code",
      "metadata": {
        "colab": {
          "base_uri": "https://localhost:8080/",
          "height": 295
        },
        "id": "tm5GFosZKOov",
        "outputId": "e5b4d82c-1f0d-46fb-98a3-f94695151055"
      },
      "source": [
        "df = lb_df['Private LB']\n",
        "fig, ax = plt.subplots(1, 1, figsize=(6, 4))\n",
        "ax.plot(df)\n",
        "ax.set_xlabel('rank')\n",
        "ax.set_ylabel('Private LB (1st week)')\n",
        "\n",
        "ax.title.set_text('Return Distribution of Competitors')"
      ],
      "execution_count": 119,
      "outputs": [
        {
          "output_type": "display_data",
          "data": {
            "image/png": "[encoded data removed]",
            "text/plain": [
              "<Figure size 432x288 with 1 Axes>"
            ]
          },
          "metadata": {
            "tags": [],
            "needs_background": "light"
          }
        }
      ]
    },
    {
      "cell_type": "markdown",
      "metadata": {
        "id": "6zb3IzoDD4Tz"
      },
      "source": [
        "まず、第一週のPrivate LB のスコアをプロットします。\n",
        "特異な2山の分布をしていますが、-2.0万円と-6.8万円付近にあるピークは、チュートリアルのモデルをそのまま提出したユーザの一群とおもわれます。"
      ]
    },
    {
      "cell_type": "code",
      "metadata": {
        "colab": {
          "base_uri": "https://localhost:8080/",
          "height": 363
        },
        "id": "0eOlFOMTdyHJ",
        "outputId": "713c9a2f-bcd4-4363-cf3c-7e800d8f9fef"
      },
      "source": [
        "df = lb_df['Private LB']\n",
        "fig, ax = plt.subplots(1, 1, figsize=(6, 4))\n",
        "sns.histplot(df, bins=30, ax=ax)\n",
        "ax.title.set_text('Return Distribution of Competitors')\n",
        "\n",
        "print(f'mean: {df.mean():.0f}')\n",
        "print(f'std: {df.std():.0f}')\n",
        "print(f'p90: {df.quantile(.9):.0f}')\n",
        "print(f'median: {df.median():.0f}')"
      ],
      "execution_count": 120,
      "outputs": [
        {
          "output_type": "stream",
          "text": [
            "mean: -48286\n",
            "std: 23399\n",
            "p90: -20675\n",
            "median: -48685\n"
          ],
          "name": "stdout"
        },
        {
          "output_type": "display_data",
          "data": {
            "image/png": "[encoded data removed]",
            "text/plain": [
              "<Figure size 432x288 with 1 Axes>"
            ]
          },
          "metadata": {
            "tags": [],
            "needs_background": "light"
          }
        }
      ]
    },
    {
      "cell_type": "markdown",
      "metadata": {
        "id": "9ntOMB3BO88u"
      },
      "source": [
        "チュートリアルのモデルを除外した分布もプロットします。"
      ]
    },
    {
      "cell_type": "code",
      "metadata": {
        "colab": {
          "base_uri": "https://localhost:8080/",
          "height": 378
        },
        "id": "SdOdxk7YOHUi",
        "outputId": "8a29b5f0-8cb4-45a9-87ff-8a3cfd0fd6b8"
      },
      "source": [
        "filter_tutorial = (lb_df['Private LB']!= -20675.0) & (lb_df['Private LB'] != -68681.0)\n",
        "df = lb_df.loc[filter_tutorial, 'Private LB']\n",
        "\n",
        "fig, ax = plt.subplots(1, 1, figsize=(6, 4))\n",
        "sns.histplot(df, bins=30, ax=ax)\n",
        "ax.set_xlabel('Private LB (1st week)')\n",
        "ax.title.set_text('Return Distribution of Competitors\\n(Eliminated Trivial Models)')\n",
        "\n",
        "print(f'mean: {df.mean():.0f}')\n",
        "print(f'std: {df.std():.0f}')\n",
        "print(f'p90: {df.quantile(.9):.0f}')\n",
        "print(f'median: {df.median():.0f}')"
      ],
      "execution_count": 147,
      "outputs": [
        {
          "output_type": "stream",
          "text": [
            "mean: -47624\n",
            "std: 23335\n",
            "p90: -23404\n",
            "median: -41877\n"
          ],
          "name": "stdout"
        },
        {
          "output_type": "display_data",
          "data": {
            "image/png": "[encoded data removed]",
            "text/plain": [
              "<Figure size 432x288 with 1 Axes>"
            ]
          },
          "metadata": {
            "tags": [],
            "needs_background": "light"
          }
        }
      ]
    },
    {
      "cell_type": "markdown",
      "metadata": {
        "id": "dRoFSMcuZ1Ua"
      },
      "source": [
        "## 提出したモデルの統計的特徴"
      ]
    },
    {
      "cell_type": "markdown",
      "metadata": {
        "id": "O5trXzPZRWzh"
      },
      "source": [
        "参考までに、推論時間、Submission回数、Public LB, Private LB の4項目について相関をみてみます（以下の分析ではチュートリアルのモデルのスコアを除外しています）。"
      ]
    },
    {
      "cell_type": "code",
      "metadata": {
        "colab": {
          "base_uri": "https://localhost:8080/",
          "height": 173
        },
        "id": "ZkqsZ2g5VDax",
        "outputId": "2f044db8-70e0-4cf2-e1fc-2c78ad5b8cfa"
      },
      "source": [
        "filter_tutorial = (lb_df['Private LB']!= -20675.0) & (lb_df['Private LB'] != -68681.0)\n",
        "df = lb_df.loc[filter_tutorial, ['PredTimeSec', 'Submitions', 'Public LB', 'Private LB']]\n",
        "df.corr('pearson')"
      ],
      "execution_count": 142,
      "outputs": [
        {
          "output_type": "execute_result",
          "data": {
            "text/html": [
              "<div>\n",
              "<style scoped>\n",
              "    .dataframe tbody tr th:only-of-type {\n",
              "        vertical-align: middle;\n",
              "    }\n",
              "\n",
              "    .dataframe tbody tr th {\n",
              "        vertical-align: top;\n",
              "    }\n",
              "\n",
              "    .dataframe thead th {\n",
              "        text-align: right;\n",
              "    }\n",
              "</style>\n",
              "<table border=\"1\" class=\"dataframe\">\n",
              "  <thead>\n",
              "    <tr style=\"text-align: right;\">\n",
              "      <th></th>\n",
              "      <th>PredTimeSec</th>\n",
              "      <th>Submitions</th>\n",
              "      <th>Public LB</th>\n",
              "      <th>Private LB</th>\n",
              "    </tr>\n",
              "  </thead>\n",
              "  <tbody>\n",
              "    <tr>\n",
              "      <th>PredTimeSec</th>\n",
              "      <td>1.000000</td>\n",
              "      <td>-0.040343</td>\n",
              "      <td>-0.321238</td>\n",
              "      <td>0.143265</td>\n",
              "    </tr>\n",
              "    <tr>\n",
              "      <th>Submitions</th>\n",
              "      <td>-0.040343</td>\n",
              "      <td>1.000000</td>\n",
              "      <td>0.381385</td>\n",
              "      <td>-0.164033</td>\n",
              "    </tr>\n",
              "    <tr>\n",
              "      <th>Public LB</th>\n",
              "      <td>-0.321238</td>\n",
              "      <td>0.381385</td>\n",
              "      <td>1.000000</td>\n",
              "      <td>-0.187262</td>\n",
              "    </tr>\n",
              "    <tr>\n",
              "      <th>Private LB</th>\n",
              "      <td>0.143265</td>\n",
              "      <td>-0.164033</td>\n",
              "      <td>-0.187262</td>\n",
              "      <td>1.000000</td>\n",
              "    </tr>\n",
              "  </tbody>\n",
              "</table>\n",
              "</div>"
            ],
            "text/plain": [
              "             PredTimeSec  Submitions  Public LB  Private LB\n",
              "PredTimeSec     1.000000   -0.040343  -0.321238    0.143265\n",
              "Submitions     -0.040343    1.000000   0.381385   -0.164033\n",
              "Public LB      -0.321238    0.381385   1.000000   -0.187262\n",
              "Private LB      0.143265   -0.164033  -0.187262    1.000000"
            ]
          },
          "metadata": {
            "tags": []
          },
          "execution_count": 142
        }
      ]
    },
    {
      "cell_type": "markdown",
      "metadata": {
        "id": "zNCdhV3IXZFv"
      },
      "source": [
        "推論時間とPrivate LB に若干正の相関があります。第一週の評価では長考型モデルのほうが即答型のモデルに若干勝っています。\n",
        "\n",
        "また、Public LB と Private LB は逆相関になっています。要因としては、Publicスコアが高いモデルは期待値が高くてリスクの高いポートフォリオを組んでいると思われるため、マイナスに触れたときのロスが大きいこと、また、Public のスコアに対して過学習してしまったことなどが考えられます。\n",
        "\n",
        "興味深いことに、Submissioins と Public LB かなり強い正の相関があります。Public LB を改善するためにSubmissionを重ねたユーザが一定数いたことが想像できます。\n",
        "今回のコンペは課題の性質からいうと、Public LB のスコアはあまりあてにならなかったのですが、目に見えるスコアをよくしたい、という心理が働いたのかもしれません。"
      ]
    },
    {
      "cell_type": "code",
      "metadata": {
        "colab": {
          "base_uri": "https://localhost:8080/",
          "height": 743
        },
        "id": "XH9nNgJpZD3n",
        "outputId": "6d12e4e1-1a68-4cbc-e94b-be78f7a2b049"
      },
      "source": [
        "filter_tutorial = (lb_df['Private LB']!= -20675.0) & (lb_df['Private LB'] != -68681.0)\n",
        "df = lb_df.loc[filter_tutorial, ['PredTimeSec', 'Submitions', 'Public LB', 'Private LB']]\n",
        "sns.pairplot(df, corner=True)"
      ],
      "execution_count": 144,
      "outputs": [
        {
          "output_type": "execute_result",
          "data": {
            "text/plain": [
              "<seaborn.axisgrid.PairGrid at 0x7f4d94d07f50>"
            ]
          },
          "metadata": {
            "tags": []
          },
          "execution_count": 144
        },
        {
          "output_type": "display_data",
          "data": {
            "image/png": "[encoded data removed]",
            "text/plain": [
              "<Figure size 720x720 with 14 Axes>"
            ]
          },
          "metadata": {
            "tags": [],
            "needs_background": "light"
          }
        }
      ]
    },
    {
      "cell_type": "markdown",
      "metadata": {
        "id": "ifSpTLqiaUxm"
      },
      "source": [
        "## 最後に\n",
        "\n",
        "第一週は残念ながらすべてのモデルがマイナス評価となりました。\n",
        "学習に使った特徴量では説明のつかない要因によって、市場が大きく影響を受けたことが想像できます（詳しい原因の分析と考察は専門家におまかせします）。\n",
        "\n",
        "第二週はプラス評価のモデルが出ることを祈ります。"
      ]
    }
  ]
}
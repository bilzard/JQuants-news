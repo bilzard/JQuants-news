{
  "nbformat": 4,
  "nbformat_minor": 0,
  "metadata": {
    "colab": {
      "name": "Ex01-JQuants-news-evaluation-1st-week.ipynb",
      "provenance": [],
      "collapsed_sections": [],
      "mount_file_id": "1Fn53dUjnVy9LlOY7Ac6MieNRauXtfhsq",
      "authorship_tag": "ABX9TyMPQmO/h9etD47YYEaKtH17",
      "include_colab_link": true
    },
    "kernelspec": {
      "name": "python3",
      "display_name": "Python 3"
    },
    "language_info": {
      "name": "python"
    }
  },
  "cells": [
    {
      "cell_type": "markdown",
      "metadata": {
        "id": "view-in-github",
        "colab_type": "text"
      },
      "source": [
        "<a href=\"https://colab.research.google.com/github/bilzard/JQuants-news/blob/main/Ex01_JQuants_news_evaluation_1st_week.ipynb\" target=\"_parent\"><img src=\"https://colab.research.google.com/assets/colab-badge.svg\" alt=\"Open In Colab\"/></a>"
      ]
    },
    {
      "cell_type": "markdown",
      "metadata": {
        "id": "03lA0NomGZCl"
      },
      "source": [
        "評価期間第一週のコンペ参加者のスコアの分布をプロットしてみたので共有します。"
      ]
    },
    {
      "cell_type": "code",
      "metadata": {
        "colab": {
          "base_uri": "https://localhost:8080/"
        },
        "id": "cQwxkPdac1nT",
        "outputId": "f63d3271-316c-4ce5-df1d-e06d44f7938f"
      },
      "source": [
        "from google.colab import drive\n",
        "drive.mount('/content/drive')"
      ],
      "execution_count": 1,
      "outputs": [
        {
          "output_type": "stream",
          "text": [
            "Drive already mounted at /content/drive; to attempt to forcibly remount, call drive.mount(\"/content/drive\", force_remount=True).\n"
          ],
          "name": "stdout"
        }
      ]
    },
    {
      "cell_type": "code",
      "metadata": {
        "id": "UqcKuYqJc2Zg"
      },
      "source": [
        "import os\n",
        "\n",
        "import pandas as pd\n",
        "import numpy as np\n",
        "import matplotlib.pyplot as plt\n",
        "import seaborn as sns\n",
        "from scipy import stats"
      ],
      "execution_count": 22,
      "outputs": []
    },
    {
      "cell_type": "markdown",
      "metadata": {
        "id": "6M_X_EgnEqHp"
      },
      "source": [
        "リーダーボードをコピー＆ペーストして作った表を読み込みます。"
      ]
    },
    {
      "cell_type": "code",
      "metadata": {
        "id": "dCk3sei2dBo0"
      },
      "source": [
        "lb_df = pd.read_csv('/content/drive/MyDrive/Colab Notebooks/JPX_Competition/JQuants-news_leaderboard.csv')"
      ],
      "execution_count": 3,
      "outputs": []
    },
    {
      "cell_type": "code",
      "metadata": {
        "id": "OgzS6LZEecBa"
      },
      "source": [
        "lb_df = lb_df.replace({'-': np.nan}).dropna()"
      ],
      "execution_count": 19,
      "outputs": []
    },
    {
      "cell_type": "code",
      "metadata": {
        "colab": {
          "base_uri": "https://localhost:8080/",
          "height": 204
        },
        "id": "XfR2O5RsC1PU",
        "outputId": "6ddb3e28-af0c-4325-d189-e30f7ff39fe6"
      },
      "source": [
        "lb_df.head()"
      ],
      "execution_count": 25,
      "outputs": [
        {
          "output_type": "execute_result",
          "data": {
            "text/html": [
              "<div>\n",
              "<style scoped>\n",
              "    .dataframe tbody tr th:only-of-type {\n",
              "        vertical-align: middle;\n",
              "    }\n",
              "\n",
              "    .dataframe tbody tr th {\n",
              "        vertical-align: top;\n",
              "    }\n",
              "\n",
              "    .dataframe thead th {\n",
              "        text-align: right;\n",
              "    }\n",
              "</style>\n",
              "<table border=\"1\" class=\"dataframe\">\n",
              "  <thead>\n",
              "    <tr style=\"text-align: right;\">\n",
              "      <th></th>\n",
              "      <th>順位</th>\n",
              "      <th>チーム名 / ユーザ名</th>\n",
              "      <th>推論時間 (sec)</th>\n",
              "      <th>暫定評価</th>\n",
              "      <th>最終評価 ▼</th>\n",
              "      <th>投稿件数</th>\n",
              "      <th>投稿日時</th>\n",
              "      <th>term</th>\n",
              "    </tr>\n",
              "  </thead>\n",
              "  <tbody>\n",
              "    <tr>\n",
              "      <th>0</th>\n",
              "      <td>1</td>\n",
              "      <td>Ken.Ken.</td>\n",
              "      <td>5198.650</td>\n",
              "      <td>25701.3</td>\n",
              "      <td>-6114.4</td>\n",
              "      <td>1</td>\n",
              "      <td>2021-05-17 19:26:15</td>\n",
              "      <td>1</td>\n",
              "    </tr>\n",
              "    <tr>\n",
              "      <th>1</th>\n",
              "      <td>2</td>\n",
              "      <td>nakayasu</td>\n",
              "      <td>5112.404</td>\n",
              "      <td>60157.0</td>\n",
              "      <td>-12551</td>\n",
              "      <td>5</td>\n",
              "      <td>2021-05-17 19:26:14</td>\n",
              "      <td>1</td>\n",
              "    </tr>\n",
              "    <tr>\n",
              "      <th>2</th>\n",
              "      <td>3</td>\n",
              "      <td>FYSignate1009</td>\n",
              "      <td>332.109</td>\n",
              "      <td>27829.0</td>\n",
              "      <td>-16534</td>\n",
              "      <td>3</td>\n",
              "      <td>2021-05-17 17:54:05</td>\n",
              "      <td>1</td>\n",
              "    </tr>\n",
              "    <tr>\n",
              "      <th>3</th>\n",
              "      <td>4</td>\n",
              "      <td>takyan</td>\n",
              "      <td>6481.370</td>\n",
              "      <td>23375.0</td>\n",
              "      <td>-17608</td>\n",
              "      <td>3</td>\n",
              "      <td>2021-05-17 19:36:04</td>\n",
              "      <td>1</td>\n",
              "    </tr>\n",
              "    <tr>\n",
              "      <th>4</th>\n",
              "      <td>5</td>\n",
              "      <td>client_first</td>\n",
              "      <td>11.917</td>\n",
              "      <td>87766.3</td>\n",
              "      <td>-19128.9</td>\n",
              "      <td>15</td>\n",
              "      <td>2021-05-17 17:51:20</td>\n",
              "      <td>1</td>\n",
              "    </tr>\n",
              "  </tbody>\n",
              "</table>\n",
              "</div>"
            ],
            "text/plain": [
              "  順位    チーム名 / ユーザ名  推論時間 (sec)  ...  投稿件数                 投稿日時  term\n",
              "0  1       Ken.Ken.    5198.650  ...     1  2021-05-17 19:26:15     1\n",
              "1  2       nakayasu    5112.404  ...     5  2021-05-17 19:26:14     1\n",
              "2  3  FYSignate1009     332.109  ...     3  2021-05-17 17:54:05     1\n",
              "3  4         takyan    6481.370  ...     3  2021-05-17 19:36:04     1\n",
              "4  5   client_first      11.917  ...    15  2021-05-17 17:51:20     1\n",
              "\n",
              "[5 rows x 8 columns]"
            ]
          },
          "metadata": {
            "tags": []
          },
          "execution_count": 25
        }
      ]
    },
    {
      "cell_type": "code",
      "metadata": {
        "colab": {
          "base_uri": "https://localhost:8080/",
          "height": 295
        },
        "id": "tm5GFosZKOov",
        "outputId": "6dce1f00-6c99-4efd-c255-8621f976c2f2"
      },
      "source": [
        "fig, ax = plt.subplots(1, 1, figsize=(6, 4))\n",
        "ax.plot(df)\n",
        "ax.set_xlabel('rank')\n",
        "ax.set_ylabel('Private LB (1st week)')\n",
        "\n",
        "ax.title.set_text('Return Distribution of Competitors')"
      ],
      "execution_count": 33,
      "outputs": [
        {
          "output_type": "display_data",
          "data": {
            "image/png": "[encoded data removed]",
            "text/plain": [
              "<Figure size 432x288 with 1 Axes>"
            ]
          },
          "metadata": {
            "tags": [],
            "needs_background": "light"
          }
        }
      ]
    },
    {
      "cell_type": "markdown",
      "metadata": {
        "id": "6zb3IzoDD4Tz"
      },
      "source": [
        "第一週のPrivate LB のスコアをプロットします。\n",
        "全体的にマイナスとなりました。\n",
        "中央値は-4.8万、トップ10%のスコアは-2.0万です。\n",
        "-2.0万円と-6.8万円付近にあるピークは、チュートリアルのモデルをそのまま提出したユーザの一群とおもわれます。"
      ]
    },
    {
      "cell_type": "code",
      "metadata": {
        "colab": {
          "base_uri": "https://localhost:8080/",
          "height": 363
        },
        "id": "0eOlFOMTdyHJ",
        "outputId": "7c6dbd0a-10b0-4848-be75-dad1664dd50e"
      },
      "source": [
        "fig, ax = plt.subplots(1, 1, figsize=(6, 4))\n",
        "sns.histplot(df, bins=30, ax=ax)\n",
        "ax.set_xlabel('Private LB (1st week)')\n",
        "ax.title.set_text('Return Distribution of Competitors')\n",
        "\n",
        "print(f'mean: {df.mean():.0f}')\n",
        "print(f'std: {df.std():.0f}')\n",
        "print(f'p90: {df.quantile(.9):.0f}')\n",
        "print(f'median: {df.median():.0f}')"
      ],
      "execution_count": 34,
      "outputs": [
        {
          "output_type": "stream",
          "text": [
            "mean: -48286\n",
            "std: 23399\n",
            "p90: -20675\n",
            "median: -48685\n"
          ],
          "name": "stdout"
        },
        {
          "output_type": "display_data",
          "data": {
            "image/png": "[encoded data removed]",
            "text/plain": [
              "<Figure size 432x288 with 1 Axes>"
            ]
          },
          "metadata": {
            "tags": [],
            "needs_background": "light"
          }
        }
      ]
    },
    {
      "cell_type": "markdown",
      "metadata": {
        "id": "KNS2_uonC_6a"
      },
      "source": [
        "Private LB と Public LB の相関をプロットしてみます。\n",
        "スピアマンの相関係数が-0.263と、負の相関がみられます。\n",
        "Private LB のスコアが高いモデルは、リターンの期待値が大きくリスクの大きいポートフォリオを組んでいると思うので、ロスしたときのマイナスも大きいと考えると、妥当な結果だと思います。"
      ]
    },
    {
      "cell_type": "code",
      "metadata": {
        "colab": {
          "base_uri": "https://localhost:8080/",
          "height": 312
        },
        "id": "iDIAJFahqqdL",
        "outputId": "1213f8b7-6a09-44e5-e25d-3b4380233964"
      },
      "source": [
        "df1 = lb_df['暫定評価'].astype(float)\n",
        "df2 = lb_df['最終評価 ▼'].replace({'-': np.nan}).astype(float)\n",
        "\n",
        "corr = np.corrcoef(df1, df2)[1][0]\n",
        "ro, _ = stats.spearmanr(df1, df2)\n",
        "plt.scatter(df1, df2)\n",
        "plt.xlabel('public LB')\n",
        "plt.ylabel('private LB (1st)')\n",
        "plt.title('Correlation of private & public LB')\n",
        "print(f'Spearman\\'s ro: {ro:.3f}')"
      ],
      "execution_count": 23,
      "outputs": [
        {
          "output_type": "stream",
          "text": [
            "Spearman's ro: -0.263\n"
          ],
          "name": "stdout"
        },
        {
          "output_type": "display_data",
          "data": {
            "image/png": "[encoded data removed]",
            "text/plain": [
              "<Figure size 432x288 with 1 Axes>"
            ]
          },
          "metadata": {
            "tags": [],
            "needs_background": "light"
          }
        }
      ]
    },
    {
      "cell_type": "markdown",
      "metadata": {
        "id": "mPTVT0KXGNew"
      },
      "source": [
        "すべてのモデルがマイナス評価を出しているため、2021/05/10週には今までの市場とは特異なことが起きたのが想像できます。\n",
        "\n",
        "市場が全体的にマイナスとなった原因についての考察はファイナンスの専門家に委ねます。"
      ]
    }
  ]
}
{
  "nbformat": 4,
  "nbformat_minor": 0,
  "metadata": {
    "colab": {
      "name": "004_fetch_latest_stock_price.ipynb",
      "provenance": [],
      "collapsed_sections": [],
      "toc_visible": true,
      "authorship_tag": "ABX9TyNWLWN3ueZwC8NNIXzpwPtt",
      "include_colab_link": true
    },
    "kernelspec": {
      "name": "python3",
      "display_name": "Python 3"
    },
    "language_info": {
      "name": "python"
    }
  },
  "cells": [
    {
      "cell_type": "markdown",
      "metadata": {
        "id": "view-in-github",
        "colab_type": "text"
      },
      "source": [
        "<a href=\"https://colab.research.google.com/github/bilzard/JQuants-news/blob/main/004_fetch_latest_stock_price.ipynb\" target=\"_parent\"><img src=\"https://colab.research.google.com/assets/colab-badge.svg\" alt=\"Open In Colab\"/></a>"
      ]
    },
    {
      "cell_type": "markdown",
      "metadata": {
        "id": "kDt2NEXGQHJv"
      },
      "source": [
        "# はじめに\n",
        "\n",
        "この notebook では [JQuantsAPI] をつかって最新の株価データを取得します。\n",
        "\n",
        "[JQuantsAPI]: https://jpx-jquants.com/apidoc.html\n"
      ]
    },
    {
      "cell_type": "code",
      "metadata": {
        "colab": {
          "base_uri": "https://localhost:8080/"
        },
        "id": "BDKMSo_wNuOa",
        "outputId": "6e5cb3fb-b3e9-4136-d68c-da6e6a96e839"
      },
      "source": [
        "# Google Colab環境ではGoogle Driveをマウントしてアクセスできるようにします。\n",
        "import sys\n",
        "\n",
        "if 'google.colab' in sys.modules:\n",
        "    # Google Drive をマウントします\n",
        "    from google.colab import drive\n",
        "    mount_dir = \"/content/drive\"\n",
        "    drive.mount(mount_dir)"
      ],
      "execution_count": 197,
      "outputs": [
        {
          "output_type": "stream",
          "text": [
            "Drive already mounted at /content/drive; to attempt to forcibly remount, call drive.mount(\"/content/drive\", force_remount=True).\n"
          ],
          "name": "stdout"
        }
      ]
    },
    {
      "cell_type": "code",
      "metadata": {
        "id": "uZ_mJISeF_oo"
      },
      "source": [
        "# データセットを配置したディレクトリのパスを設定\n",
        "if 'google.colab' in sys.modules:\n",
        "    dataset_dir = f\"{mount_dir}/MyDrive/JPX_competition/data_dir_comp2\"\n",
        "else:\n",
        "    dataset_dir = \"/notebook/data_dir_comp2\""
      ],
      "execution_count": null,
      "outputs": []
    },
    {
      "cell_type": "code",
      "metadata": {
        "id": "Vy0hU5vGrgSP"
      },
      "source": [
        "refresh_token = '(自分のAPI tokenを入力します)'"
      ],
      "execution_count": null,
      "outputs": []
    },
    {
      "cell_type": "code",
      "metadata": {
        "id": "4SHFNWxt_O9q"
      },
      "source": [
        "import os\n",
        "import json\n",
        "import requests\n",
        "import base64\n",
        "import pandas as pd\n",
        "import numpy as np"
      ],
      "execution_count": null,
      "outputs": []
    },
    {
      "cell_type": "code",
      "metadata": {
        "id": "qd1aSnaUvSi5"
      },
      "source": [
        "def call_jquants_api(params: dict, idtoken: str, apitype: str, code: str = None):\n",
        "    \"\"\"\n",
        "    J-QuantsのAPIを試すメソッド。\n",
        "\n",
        "    Parameters\n",
        "    ----------\n",
        "    params : dict\n",
        "        リクエストパラメータ。\n",
        "    idtoken : str\n",
        "        idTokenはログイン後の画面からご確認いただけます。\n",
        "    apitype: str\n",
        "        APIの種類。\"news\", \"prices\", \"lists\"などがあります。\n",
        "    code: str\n",
        "        銘柄を指定するAPIの場合に設定します。\n",
        "\n",
        "    Returns\n",
        "    -------\n",
        "    resjson : dict\n",
        "        APIレスポンス(json形式)\n",
        "    \"\"\"\n",
        "    datefrom = params.get(\"datefrom\", None)\n",
        "    dateto = params.get(\"dateto\", None)\n",
        "    date = params.get(\"date\", None)\n",
        "    includedetails = params.get(\"includedetails\", \"false\")\n",
        "    keyword = params.get(\"keyword\", None)\n",
        "    headline = params.get(\"headline\", None)\n",
        "    paramcode = params.get(\"code\", None)\n",
        "    nexttoken = params.get(\"nextToken\", None)\n",
        "    headers = {\"accept\": \"application/json\", \"Authorization\": idtoken}\n",
        "    data = {\n",
        "        \"from\": datefrom,\n",
        "        \"to\": dateto,\n",
        "        \"includeDetails\": includedetails,\n",
        "        \"nextToken\": nexttoken,\n",
        "        \"date\": date,\n",
        "        \"keyword\": keyword,\n",
        "        \"headline\": headline,\n",
        "        \"code\": paramcode,\n",
        "    }\n",
        "\n",
        "    if code:\n",
        "        code = \"/\" + code\n",
        "        r = requests.get(\n",
        "            \"https://api.jpx-jquants.com/\" + apitype + code,\n",
        "            params=data,\n",
        "            headers=headers,\n",
        "        )\n",
        "    else:\n",
        "        r = requests.get(\n",
        "            \"https://api.jpx-jquants.com/\" + apitype, params=data, headers=headers\n",
        "        )\n",
        "    resjson = json.loads(r.text)\n",
        "    return resjson"
      ],
      "execution_count": null,
      "outputs": []
    },
    {
      "cell_type": "code",
      "metadata": {
        "id": "VNtmF4iPvaE0"
      },
      "source": [
        "class IdToken:\n",
        "  def __init__(self, refresh_token):\n",
        "    self._refresh_token = refresh_token\n",
        "    self.refresh()\n",
        "\n",
        "  def _get_id_token(self):\n",
        "    headers = {\"accept\": \"application/json\"}\n",
        "    data = {\"refresh-token\": self._refresh_token}\n",
        "\n",
        "    response = requests.post(\n",
        "        \"https://api.jpx-jquants.com/refresh\", headers=headers, data=json.dumps(data)\n",
        "    )\n",
        "\n",
        "    resjson = json.loads(response.text)\n",
        "    return resjson\n",
        "\n",
        "  def refresh(self):\n",
        "    ret = self._get_id_token()\n",
        "    self._id_token = ret['idToken']\n",
        "\n",
        "  def get(self):\n",
        "    return self._id_token"
      ],
      "execution_count": null,
      "outputs": []
    },
    {
      "cell_type": "code",
      "metadata": {
        "id": "EC-R0DLB3Woe"
      },
      "source": [
        "class Prices(object):\n",
        "  def __init__(self, params, id_token):\n",
        "    self._params = params\n",
        "    self._id_token = id_token\n",
        "    self._next_token = None\n",
        "    self._stop = False\n",
        "\n",
        "  def __iter__(self):\n",
        "    return self\n",
        "\n",
        "  def __next__(self):\n",
        "    return self.next()\n",
        "\n",
        "  def next(self):\n",
        "    if self._stop:\n",
        "      raise StopIteration()\n",
        "\n",
        "    params['nextToken'] = self._next_token\n",
        "    ret = call_jquants_api(params, self._id_token, 'prices')\n",
        "\n",
        "    if 'nextToken' in ret:\n",
        "      self._next_token = ret['nextToken']\n",
        "    else:\n",
        "      self._next_token = None\n",
        "      self._stop = True\n",
        "\n",
        "    return ret['prices']"
      ],
      "execution_count": null,
      "outputs": []
    },
    {
      "cell_type": "markdown",
      "metadata": {
        "id": "WxT23Sq0QnQ8"
      },
      "source": [
        "2021/01/01 - 2021/04/30 までの株価を取得します。\n",
        "だいたい20〜30分くらいかかります。"
      ]
    },
    {
      "cell_type": "code",
      "metadata": {
        "colab": {
          "base_uri": "https://localhost:8080/"
        },
        "id": "7IHqSwrfAO7n",
        "outputId": "b5986f7f-b2f5-41ab-b514-8a13e277fba0"
      },
      "source": [
        "from tqdm import tqdm\n",
        "\n",
        "\n",
        "idToken = IdToken(refresh_token)\n",
        "results = []\n",
        "dates = [dt.strftime('%Y-%m-%d') for dt in pd.date_range(start='2021-01-01', end='2021-04-30')]\n",
        "\n",
        "for date in tqdm(dates):\n",
        "  params = {\n",
        "    'includedetails': 'True',\n",
        "    'date': date,\n",
        "    'nextToken': None,\n",
        "  }\n",
        "  prices = Prices(params, idToken.get())\n",
        "\n",
        "  for price in prices:\n",
        "    results.append(json.dumps(price))\n",
        "\n",
        "df_price = pd.concat(\n",
        "    [pd.read_json(json_ret) for json_ret in results],\n",
        "    ignore_index=True\n",
        ")"
      ],
      "execution_count": null,
      "outputs": [
        {
          "output_type": "stream",
          "text": [
            " 43%|████▎     | 52/120 [07:30<06:57,  6.14s/it]"
          ],
          "name": "stderr"
        }
      ]
    },
    {
      "cell_type": "code",
      "metadata": {
        "colab": {
          "base_uri": "https://localhost:8080/",
          "height": 443
        },
        "id": "VgNzttbDF3FK",
        "outputId": "5fa5a632-3828-4928-c36f-a383535952f9"
      },
      "source": [
        "df_price"
      ],
      "execution_count": null,
      "outputs": [
        {
          "output_type": "execute_result",
          "data": {
            "text/html": [
              "<div>\n",
              "<style scoped>\n",
              "    .dataframe tbody tr th:only-of-type {\n",
              "        vertical-align: middle;\n",
              "    }\n",
              "\n",
              "    .dataframe tbody tr th {\n",
              "        vertical-align: top;\n",
              "    }\n",
              "\n",
              "    .dataframe thead th {\n",
              "        text-align: right;\n",
              "    }\n",
              "</style>\n",
              "<table border=\"1\" class=\"dataframe\">\n",
              "  <thead>\n",
              "    <tr style=\"text-align: right;\">\n",
              "      <th></th>\n",
              "      <th>EndOfDayQuote Open</th>\n",
              "      <th>EndOfDayQuote PreviousClose</th>\n",
              "      <th>EndOfDayQuote CumulativeAdjustmentFactor</th>\n",
              "      <th>EndOfDayQuote VWAP</th>\n",
              "      <th>EndOfDayQuote Low</th>\n",
              "      <th>EndOfDayQuote PreviousExchangeOfficialClose</th>\n",
              "      <th>EndOfDayQuote High</th>\n",
              "      <th>EndOfDayQuote Date</th>\n",
              "      <th>EndOfDayQuote Close</th>\n",
              "      <th>EndOfDayQuote PreviousExchangeOfficialCloseDate</th>\n",
              "      <th>EndOfDayQuote ExchangeOfficialClose</th>\n",
              "      <th>EndOfDayQuote ChangeFromPreviousClose</th>\n",
              "      <th>EndOfDayQuote PercentChangeFromPreviousClose</th>\n",
              "      <th>EndOfDayQuote PreviousCloseDate</th>\n",
              "      <th>Local Code</th>\n",
              "      <th>EndOfDayQuote Volume</th>\n",
              "    </tr>\n",
              "  </thead>\n",
              "  <tbody>\n",
              "    <tr>\n",
              "      <th>0</th>\n",
              "      <td>2951.0</td>\n",
              "      <td>2951.0</td>\n",
              "      <td>1.0</td>\n",
              "      <td>2932.165</td>\n",
              "      <td>2913.0</td>\n",
              "      <td>2951.0</td>\n",
              "      <td>2951.0</td>\n",
              "      <td>2021/01/04</td>\n",
              "      <td>2950.0</td>\n",
              "      <td>2020/12/30</td>\n",
              "      <td>2950.0</td>\n",
              "      <td>-1.0</td>\n",
              "      <td>-0.034</td>\n",
              "      <td>2020/12/30</td>\n",
              "      <td>1301</td>\n",
              "      <td>9700</td>\n",
              "    </tr>\n",
              "    <tr>\n",
              "      <th>1</th>\n",
              "      <td>428.0</td>\n",
              "      <td>426.0</td>\n",
              "      <td>1.0</td>\n",
              "      <td>419.695</td>\n",
              "      <td>416.0</td>\n",
              "      <td>426.0</td>\n",
              "      <td>429.0</td>\n",
              "      <td>2021/01/04</td>\n",
              "      <td>421.0</td>\n",
              "      <td>2020/12/30</td>\n",
              "      <td>421.0</td>\n",
              "      <td>-5.0</td>\n",
              "      <td>-1.174</td>\n",
              "      <td>2020/12/30</td>\n",
              "      <td>1332</td>\n",
              "      <td>1780500</td>\n",
              "    </tr>\n",
              "    <tr>\n",
              "      <th>2</th>\n",
              "      <td>2229.0</td>\n",
              "      <td>2220.0</td>\n",
              "      <td>1.0</td>\n",
              "      <td>2200.351</td>\n",
              "      <td>2179.0</td>\n",
              "      <td>2220.0</td>\n",
              "      <td>2231.0</td>\n",
              "      <td>2021/01/04</td>\n",
              "      <td>2202.0</td>\n",
              "      <td>2020/12/30</td>\n",
              "      <td>2202.0</td>\n",
              "      <td>-18.0</td>\n",
              "      <td>-0.811</td>\n",
              "      <td>2020/12/30</td>\n",
              "      <td>1333</td>\n",
              "      <td>112400</td>\n",
              "    </tr>\n",
              "    <tr>\n",
              "      <th>3</th>\n",
              "      <td>975.0</td>\n",
              "      <td>988.0</td>\n",
              "      <td>1.0</td>\n",
              "      <td>986.833</td>\n",
              "      <td>975.0</td>\n",
              "      <td>988.0</td>\n",
              "      <td>992.0</td>\n",
              "      <td>2021/01/04</td>\n",
              "      <td>992.0</td>\n",
              "      <td>2020/12/30</td>\n",
              "      <td>992.0</td>\n",
              "      <td>4.0</td>\n",
              "      <td>0.405</td>\n",
              "      <td>2020/12/30</td>\n",
              "      <td>1352</td>\n",
              "      <td>600</td>\n",
              "    </tr>\n",
              "    <tr>\n",
              "      <th>4</th>\n",
              "      <td>1701.0</td>\n",
              "      <td>1693.0</td>\n",
              "      <td>1.0</td>\n",
              "      <td>1680.399</td>\n",
              "      <td>1672.0</td>\n",
              "      <td>1693.0</td>\n",
              "      <td>1701.0</td>\n",
              "      <td>2021/01/04</td>\n",
              "      <td>1674.0</td>\n",
              "      <td>2020/12/30</td>\n",
              "      <td>1674.0</td>\n",
              "      <td>-19.0</td>\n",
              "      <td>-1.122</td>\n",
              "      <td>2020/12/30</td>\n",
              "      <td>1375</td>\n",
              "      <td>67900</td>\n",
              "    </tr>\n",
              "    <tr>\n",
              "      <th>...</th>\n",
              "      <td>...</td>\n",
              "      <td>...</td>\n",
              "      <td>...</td>\n",
              "      <td>...</td>\n",
              "      <td>...</td>\n",
              "      <td>...</td>\n",
              "      <td>...</td>\n",
              "      <td>...</td>\n",
              "      <td>...</td>\n",
              "      <td>...</td>\n",
              "      <td>...</td>\n",
              "      <td>...</td>\n",
              "      <td>...</td>\n",
              "      <td>...</td>\n",
              "      <td>...</td>\n",
              "      <td>...</td>\n",
              "    </tr>\n",
              "    <tr>\n",
              "      <th>300445</th>\n",
              "      <td>1722.0</td>\n",
              "      <td>1719.0</td>\n",
              "      <td>1.0</td>\n",
              "      <td>1711.462</td>\n",
              "      <td>1707.0</td>\n",
              "      <td>1719.0</td>\n",
              "      <td>1724.0</td>\n",
              "      <td>2021/04/30</td>\n",
              "      <td>1707.0</td>\n",
              "      <td>2021/04/28</td>\n",
              "      <td>1707.0</td>\n",
              "      <td>-12.0</td>\n",
              "      <td>-0.698</td>\n",
              "      <td>2021/04/28</td>\n",
              "      <td>9993</td>\n",
              "      <td>5200</td>\n",
              "    </tr>\n",
              "    <tr>\n",
              "      <th>300446</th>\n",
              "      <td>2336.0</td>\n",
              "      <td>2336.0</td>\n",
              "      <td>1.0</td>\n",
              "      <td>2325.642</td>\n",
              "      <td>2315.0</td>\n",
              "      <td>2336.0</td>\n",
              "      <td>2337.0</td>\n",
              "      <td>2021/04/30</td>\n",
              "      <td>2315.0</td>\n",
              "      <td>2021/04/28</td>\n",
              "      <td>2315.0</td>\n",
              "      <td>-21.0</td>\n",
              "      <td>-0.899</td>\n",
              "      <td>2021/04/28</td>\n",
              "      <td>9994</td>\n",
              "      <td>5300</td>\n",
              "    </tr>\n",
              "    <tr>\n",
              "      <th>300447</th>\n",
              "      <td>428.0</td>\n",
              "      <td>430.0</td>\n",
              "      <td>1.0</td>\n",
              "      <td>424.865</td>\n",
              "      <td>421.0</td>\n",
              "      <td>430.0</td>\n",
              "      <td>430.0</td>\n",
              "      <td>2021/04/30</td>\n",
              "      <td>421.0</td>\n",
              "      <td>2021/04/28</td>\n",
              "      <td>421.0</td>\n",
              "      <td>-9.0</td>\n",
              "      <td>-2.093</td>\n",
              "      <td>2021/04/28</td>\n",
              "      <td>9995</td>\n",
              "      <td>83100</td>\n",
              "    </tr>\n",
              "    <tr>\n",
              "      <th>300448</th>\n",
              "      <td>1501.0</td>\n",
              "      <td>1502.0</td>\n",
              "      <td>1.0</td>\n",
              "      <td>1496.667</td>\n",
              "      <td>1494.0</td>\n",
              "      <td>1502.0</td>\n",
              "      <td>1501.0</td>\n",
              "      <td>2021/04/30</td>\n",
              "      <td>1494.0</td>\n",
              "      <td>2021/04/28</td>\n",
              "      <td>1494.0</td>\n",
              "      <td>-8.0</td>\n",
              "      <td>-0.533</td>\n",
              "      <td>2021/04/28</td>\n",
              "      <td>9996</td>\n",
              "      <td>300</td>\n",
              "    </tr>\n",
              "    <tr>\n",
              "      <th>300449</th>\n",
              "      <td>1165.0</td>\n",
              "      <td>1168.0</td>\n",
              "      <td>1.0</td>\n",
              "      <td>1163.398</td>\n",
              "      <td>1157.0</td>\n",
              "      <td>1168.0</td>\n",
              "      <td>1173.0</td>\n",
              "      <td>2021/04/30</td>\n",
              "      <td>1159.0</td>\n",
              "      <td>2021/04/28</td>\n",
              "      <td>1159.0</td>\n",
              "      <td>-9.0</td>\n",
              "      <td>-0.771</td>\n",
              "      <td>2021/04/28</td>\n",
              "      <td>9997</td>\n",
              "      <td>251300</td>\n",
              "    </tr>\n",
              "  </tbody>\n",
              "</table>\n",
              "<p>300450 rows × 16 columns</p>\n",
              "</div>"
            ],
            "text/plain": [
              "        EndOfDayQuote Open  ...  EndOfDayQuote Volume\n",
              "0                   2951.0  ...                  9700\n",
              "1                    428.0  ...               1780500\n",
              "2                   2229.0  ...                112400\n",
              "3                    975.0  ...                   600\n",
              "4                   1701.0  ...                 67900\n",
              "...                    ...  ...                   ...\n",
              "300445              1722.0  ...                  5200\n",
              "300446              2336.0  ...                  5300\n",
              "300447               428.0  ...                 83100\n",
              "300448              1501.0  ...                   300\n",
              "300449              1165.0  ...                251300\n",
              "\n",
              "[300450 rows x 16 columns]"
            ]
          },
          "metadata": {
            "tags": []
          },
          "execution_count": 179
        }
      ]
    },
    {
      "cell_type": "code",
      "metadata": {
        "id": "59n5sfy-OOsH"
      },
      "source": [
        "# ローカルディレクトリに保存\n",
        "df_price.to_csv('stock_price_latest.csv', index=False)"
      ],
      "execution_count": 198,
      "outputs": []
    },
    {
      "cell_type": "code",
      "metadata": {
        "colab": {
          "base_uri": "https://localhost:8080/"
        },
        "id": "jm8SSDNTUH_J",
        "outputId": "b31f2458-8ff9-448a-950e-b1197eb80e4d"
      },
      "source": [
        "! ls -l"
      ],
      "execution_count": 199,
      "outputs": [
        {
          "output_type": "stream",
          "text": [
            "total 44008\n",
            "drwx------ 5 root root     4096 May  2 03:55 drive\n",
            "drwxr-xr-x 1 root root     4096 Apr 21 13:39 sample_data\n",
            "-rw-r--r-- 1 root root 34741320 May  2 07:27 stock_price_latest.csv\n",
            "-rw-r--r-- 1 root root 10310270 May  2 04:25 stock_price_latest.csv.gz\n"
          ],
          "name": "stdout"
        }
      ]
    },
    {
      "cell_type": "code",
      "metadata": {
        "colab": {
          "base_uri": "https://localhost:8080/"
        },
        "id": "INEzyDB8Obr3",
        "outputId": "b1d588dc-3e92-41c3-8e0d-9d6a52569f41"
      },
      "source": [
        "# gz ファイルに圧縮\n",
        "! gzip stock_price_latest.csv.gz stock_price_latest.csv"
      ],
      "execution_count": 200,
      "outputs": [
        {
          "output_type": "stream",
          "text": [
            "gzip: stock_price_latest.csv.gz already has .gz suffix -- unchanged\n",
            "gzip: stock_price_latest.csv.gz already exists; do you wish to overwrite (y or n)? y\n"
          ],
          "name": "stdout"
        }
      ]
    },
    {
      "cell_type": "code",
      "metadata": {
        "colab": {
          "base_uri": "https://localhost:8080/"
        },
        "id": "vw13lzgxOjZq",
        "outputId": "3e1bc3aa-aad3-4870-94b1-5e540ebd05dd"
      },
      "source": [
        "! ls -l stock_price_latest.csv.gz"
      ],
      "execution_count": 201,
      "outputs": [
        {
          "output_type": "stream",
          "text": [
            "-rw-r--r-- 1 root root 9703414 May  2 07:27 stock_price_latest.csv.gz\n"
          ],
          "name": "stdout"
        }
      ]
    },
    {
      "cell_type": "code",
      "metadata": {
        "colab": {
          "base_uri": "https://localhost:8080/"
        },
        "id": "0sulnY7fO16t",
        "outputId": "336491b7-016f-47b0-bf17-d7c6c08e3843"
      },
      "source": [
        "! ls -l"
      ],
      "execution_count": 203,
      "outputs": [
        {
          "output_type": "stream",
          "text": [
            "total 9484\n",
            "drwx------ 5 root root    4096 May  2 03:55 drive\n",
            "drwxr-xr-x 1 root root    4096 Apr 21 13:39 sample_data\n",
            "-rw-r--r-- 1 root root 9703414 May  2 07:27 stock_price_latest.csv.gz\n"
          ],
          "name": "stdout"
        }
      ]
    },
    {
      "cell_type": "code",
      "metadata": {
        "id": "-0M5IYoGO4qc"
      },
      "source": [
        "# Google Drive 上に保存します\n",
        "! cp stock_price_latest.csv.gz {dataset_dir}/."
      ],
      "execution_count": 204,
      "outputs": []
    },
    {
      "cell_type": "code",
      "metadata": {
        "id": "LTfC60cp-d-1"
      },
      "source": [
        ""
      ],
      "execution_count": null,
      "outputs": []
    }
  ]
}
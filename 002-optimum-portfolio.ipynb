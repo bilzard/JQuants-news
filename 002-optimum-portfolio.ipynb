{
  "nbformat": 4,
  "nbformat_minor": 0,
  "metadata": {
    "colab": {
      "name": "sub003.ipynb",
      "provenance": [],
      "collapsed_sections": [],
      "authorship_tag": "ABX9TyMC7QVotpXmAgmIoydj1isF",
      "include_colab_link": true
    },
    "kernelspec": {
      "name": "python3",
      "display_name": "Python 3"
    },
    "language_info": {
      "name": "python"
    }
  },
  "cells": [
    {
      "cell_type": "markdown",
      "metadata": {
        "id": "view-in-github",
        "colab_type": "text"
      },
      "source": [
        "<a href=\"https://colab.research.google.com/github/bilzard/JQuants-news/blob/main/002-optimum-portfolio.ipynb\" target=\"_parent\"><img src=\"https://colab.research.google.com/assets/colab-badge.svg\" alt=\"Open In Colab\"/></a>"
      ]
    },
    {
      "cell_type": "markdown",
      "metadata": {
        "id": "Rxxaetz6HHOq"
      },
      "source": [
        "# はじめに\n",
        "\n",
        "このnotebook では[CVXOPT]を使ってポートフォリオの配分を最適化します。\n",
        "\n",
        "\n",
        "[CVXOPT]: https://cvxopt.org/"
      ]
    },
    {
      "cell_type": "code",
      "metadata": {
        "colab": {
          "base_uri": "https://localhost:8080/",
          "height": 17
        },
        "id": "fhdN__sbRD32",
        "outputId": "1f98ed7a-ec58-45aa-be93-236ac5bd3feb"
      },
      "source": [
        "%%HTML\n",
        "<style>\n",
        "    div#notebook-container    { width: 100%; }\n",
        "    div#menubar-container     { width: 65%; }\n",
        "    div#maintoolbar-container { width: 99%; }\n",
        "</style>"
      ],
      "execution_count": null,
      "outputs": [
        {
          "output_type": "display_data",
          "data": {
            "text/html": [
              "<style>\n",
              "    div#notebook-container    { width: 100%; }\n",
              "    div#menubar-container     { width: 65%; }\n",
              "    div#maintoolbar-container { width: 99%; }\n",
              "</style>"
            ],
            "text/plain": [
              "<IPython.core.display.HTML object>"
            ]
          },
          "metadata": {
            "tags": []
          }
        }
      ]
    },
    {
      "cell_type": "code",
      "metadata": {
        "colab": {
          "base_uri": "https://localhost:8080/"
        },
        "id": "nd6HWLMIRJSh",
        "outputId": "6623e81e-bf05-486e-dae4-b12966d0b4ea"
      },
      "source": [
        "# Google Colab環境ではGoogle Driveをマウントしてアクセスできるようにします。\n",
        "import sys\n",
        "\n",
        "if 'google.colab' in sys.modules:\n",
        "    # Google Drive をマウントします\n",
        "    from google.colab import drive\n",
        "    mount_dir = \"/content/drive\"\n",
        "    drive.mount(mount_dir)"
      ],
      "execution_count": null,
      "outputs": [
        {
          "output_type": "stream",
          "text": [
            "Drive already mounted at /content/drive; to attempt to forcibly remount, call drive.mount(\"/content/drive\", force_remount=True).\n"
          ],
          "name": "stdout"
        }
      ]
    },
    {
      "cell_type": "code",
      "metadata": {
        "colab": {
          "base_uri": "https://localhost:8080/"
        },
        "id": "aKtAyI4QRMQa",
        "outputId": "1cfcb4d5-a5cf-4a4b-fedb-22dfff26232e"
      },
      "source": [
        "# ライブラリのバージョンを調整します\n",
        "!pip install --no-cache-dir joblib==1.0.1 numpy==1.19.5 pandas==1.1.5 scikit-learn==0.20.3 scipy==1.2.1 seaborn==0.9.0"
      ],
      "execution_count": null,
      "outputs": [
        {
          "output_type": "stream",
          "text": [
            "Requirement already satisfied: joblib==1.0.1 in /usr/local/lib/python3.7/dist-packages (1.0.1)\n",
            "Requirement already satisfied: numpy==1.19.5 in /usr/local/lib/python3.7/dist-packages (1.19.5)\n",
            "Requirement already satisfied: pandas==1.1.5 in /usr/local/lib/python3.7/dist-packages (1.1.5)\n",
            "Requirement already satisfied: scikit-learn==0.20.3 in /usr/local/lib/python3.7/dist-packages (0.20.3)\n",
            "Collecting scipy==1.2.1\n",
            "\u001b[?25l  Downloading https://files.pythonhosted.org/packages/3e/7e/5cee36eee5b3194687232f6150a89a38f784883c612db7f4da2ab190980d/scipy-1.2.1-cp37-cp37m-manylinux1_x86_64.whl (24.8MB)\n",
            "\u001b[K     |████████████████████████████████| 24.8MB 1.4MB/s \n",
            "\u001b[?25hCollecting seaborn==0.9.0\n",
            "\u001b[?25l  Downloading https://files.pythonhosted.org/packages/a8/76/220ba4420459d9c4c9c9587c6ce607bf56c25b3d3d2de62056efe482dadc/seaborn-0.9.0-py3-none-any.whl (208kB)\n",
            "\u001b[K     |████████████████████████████████| 215kB 43.0MB/s \n",
            "\u001b[?25hRequirement already satisfied: pytz>=2017.2 in /usr/local/lib/python3.7/dist-packages (from pandas==1.1.5) (2018.9)\n",
            "Requirement already satisfied: python-dateutil>=2.7.3 in /usr/local/lib/python3.7/dist-packages (from pandas==1.1.5) (2.8.1)\n",
            "Requirement already satisfied: matplotlib>=1.4.3 in /usr/local/lib/python3.7/dist-packages (from seaborn==0.9.0) (3.2.2)\n",
            "Requirement already satisfied: six>=1.5 in /usr/local/lib/python3.7/dist-packages (from python-dateutil>=2.7.3->pandas==1.1.5) (1.15.0)\n",
            "Requirement already satisfied: pyparsing!=2.0.4,!=2.1.2,!=2.1.6,>=2.0.1 in /usr/local/lib/python3.7/dist-packages (from matplotlib>=1.4.3->seaborn==0.9.0) (2.4.7)\n",
            "Requirement already satisfied: kiwisolver>=1.0.1 in /usr/local/lib/python3.7/dist-packages (from matplotlib>=1.4.3->seaborn==0.9.0) (1.3.1)\n",
            "Requirement already satisfied: cycler>=0.10 in /usr/local/lib/python3.7/dist-packages (from matplotlib>=1.4.3->seaborn==0.9.0) (0.10.0)\n",
            "\u001b[31mERROR: phik 0.11.2 has requirement scipy>=1.5.2, but you'll have scipy 1.2.1 which is incompatible.\u001b[0m\n",
            "\u001b[31mERROR: pandas-profiling 2.11.0 has requirement scipy>=1.4.1, but you'll have scipy 1.2.1 which is incompatible.\u001b[0m\n",
            "\u001b[31mERROR: pandas-profiling 2.11.0 has requirement seaborn>=0.10.1, but you'll have seaborn 0.9.0 which is incompatible.\u001b[0m\n",
            "\u001b[31mERROR: albumentations 0.1.12 has requirement imgaug<0.2.7,>=0.2.5, but you'll have imgaug 0.2.9 which is incompatible.\u001b[0m\n",
            "Installing collected packages: scipy, seaborn\n",
            "  Found existing installation: scipy 1.6.2\n",
            "    Uninstalling scipy-1.6.2:\n",
            "      Successfully uninstalled scipy-1.6.2\n",
            "  Found existing installation: seaborn 0.11.1\n",
            "    Uninstalling seaborn-0.11.1:\n",
            "      Successfully uninstalled seaborn-0.11.1\n",
            "Successfully installed scipy-1.2.1 seaborn-0.9.0\n"
          ],
          "name": "stdout"
        }
      ]
    },
    {
      "cell_type": "code",
      "metadata": {
        "colab": {
          "base_uri": "https://localhost:8080/"
        },
        "id": "JRQC4H9cRVD8",
        "outputId": "4bb5f449-c781-4877-d72d-9ae5fe4a3426"
      },
      "source": [
        "import io\n",
        "import os\n",
        "import sys\n",
        "import zipfile\n",
        "\n",
        "import matplotlib\n",
        "import matplotlib.pyplot as plt\n",
        "import numpy as np\n",
        "import pandas as pd\n",
        "import seaborn as sns\n",
        "from tqdm.auto import tqdm\n",
        "from scipy import stats\n",
        "from IPython.core.magic import register_cell_magic"
      ],
      "execution_count": null,
      "outputs": [
        {
          "output_type": "stream",
          "text": [
            "/usr/local/lib/python3.7/dist-packages/statsmodels/tools/_testing.py:19: FutureWarning: pandas.util.testing is deprecated. Use the functions in the public API at pandas.testing instead.\n",
            "  import pandas.util.testing as tm\n"
          ],
          "name": "stderr"
        }
      ]
    },
    {
      "cell_type": "markdown",
      "metadata": {
        "id": "6f5DsjdjHTdg"
      },
      "source": [
        "作業ディレクトリを指定します。自分の環境に合わせて適宜設定してください。"
      ]
    },
    {
      "cell_type": "code",
      "metadata": {
        "id": "WtfIB8BBUlgT"
      },
      "source": [
        "PROJECT_DIR = f'{mount_dir}/MyDrive/JPX_competition/sub001'"
      ],
      "execution_count": null,
      "outputs": []
    },
    {
      "cell_type": "code",
      "metadata": {
        "id": "XCsSMiLRRYak"
      },
      "source": [
        "# インポート時にエラーが出た場合は、以下のmodule_dirをbacktest.pyを配置したディレクトリに変更してください。\n",
        "import sys\n",
        "if 'google.colab' in sys.modules:\n",
        "  # Backtestを配置したディレクトリへのフルパスを指定します\n",
        "  module_dir = f\"{mount_dir}/MyDrive/JPX_competition/Chapter03/backtest\"\n",
        "else:\n",
        "  # Backtestを配置したディレクトリへのフルパスを指定します\n",
        "  module_dir = \"/notebook/Chapter03/backtest\" \n",
        "sys.path.append(module_dir)\n",
        "\n",
        "from backtest import Backtest"
      ],
      "execution_count": null,
      "outputs": []
    },
    {
      "cell_type": "code",
      "metadata": {
        "id": "nVMNHgSIRao0"
      },
      "source": [
        "# 表示用の設定を変更します\n",
        "pd.options.display.max_rows = 100\n",
        "pd.options.display.max_columns = 100\n",
        "pd.options.display.width = 120"
      ],
      "execution_count": null,
      "outputs": []
    },
    {
      "cell_type": "code",
      "metadata": {
        "id": "i3-YnlOuRcm1"
      },
      "source": [
        "# データセットを配置したディレクトリのパスを設定\n",
        "if 'google.colab' in sys.modules:\n",
        "    dataset_dir = f\"{mount_dir}/MyDrive/JPX_competition/data_dir_comp2\"\n",
        "else:\n",
        "    dataset_dir = \"/notebook/data_dir_comp2\""
      ],
      "execution_count": null,
      "outputs": []
    },
    {
      "cell_type": "code",
      "metadata": {
        "id": "TnED2CfZRezd"
      },
      "source": [
        "# 入力パラメーターを設定します。ランタイム環境での実行時と同一フォーマットにします\n",
        "inputs = {\n",
        "    \"stock_list\": f\"{dataset_dir}/stock_list.csv.gz\",\n",
        "    \"stock_price\": f\"{dataset_dir}/stock_price.csv.gz\",\n",
        "}"
      ],
      "execution_count": null,
      "outputs": []
    },
    {
      "cell_type": "code",
      "metadata": {
        "id": "6x6v-1xlRiwN"
      },
      "source": [
        "# 投資対象日付を指定します\n",
        "start_dt = pd.Timestamp(\"2020-01-01\")"
      ],
      "execution_count": null,
      "outputs": []
    },
    {
      "cell_type": "code",
      "metadata": {
        "id": "Kpx7DaLqRlWG"
      },
      "source": [
        "if \"purchase_date\" in inputs.keys():\n",
        "    # ランタイム環境では指定された投資対象日付を使用します\n",
        "    # purchase_dateを読み込み\n",
        "    df_purchase_date = pd.read_csv(inputs[\"purchase_date\"])\n",
        "    # purchase_dateの最も古い日付を投資対象日付として使用します\n",
        "    start_dt = pd.Timestamp(df_purchase_date.sort_values(\"Purchase Date\").iloc[0, 0])"
      ],
      "execution_count": null,
      "outputs": []
    },
    {
      "cell_type": "code",
      "metadata": {
        "id": "q6Vo8TOuRvU2"
      },
      "source": [
        "# 銘柄情報読み込み\n",
        "df_stock_list = pd.read_csv(inputs[\"stock_list\"])\n",
        "# 問題2のユニバース (投資対象の条件を満たす銘柄群) 取得\n",
        "codes = df_stock_list.loc[\n",
        "    df_stock_list.loc[:, \"universe_comp2\"] == True, \"Local Code\"\n",
        "].unique()"
      ],
      "execution_count": null,
      "outputs": []
    },
    {
      "cell_type": "code",
      "metadata": {
        "id": "k6Ml3DFZRxQG"
      },
      "source": [
        "# 価格情報読み込み、インデックス作成\n",
        "df_price = pd.read_csv(inputs[\"stock_price\"]).set_index(\"EndOfDayQuote Date\")\n",
        "# 日付型に変換\n",
        "df_price.index = pd.to_datetime(df_price.index, format=\"%Y-%m-%d\")"
      ],
      "execution_count": null,
      "outputs": []
    },
    {
      "cell_type": "code",
      "metadata": {
        "colab": {
          "base_uri": "https://localhost:8080/",
          "height": 492
        },
        "id": "1ZdoJhMfTC_o",
        "outputId": "19fa19c5-856a-4eae-95b5-53a5f688c7a1"
      },
      "source": [
        "df_price"
      ],
      "execution_count": 208,
      "outputs": [
        {
          "output_type": "execute_result",
          "data": {
            "text/html": [
              "<div>\n",
              "<style scoped>\n",
              "    .dataframe tbody tr th:only-of-type {\n",
              "        vertical-align: middle;\n",
              "    }\n",
              "\n",
              "    .dataframe tbody tr th {\n",
              "        vertical-align: top;\n",
              "    }\n",
              "\n",
              "    .dataframe thead th {\n",
              "        text-align: right;\n",
              "    }\n",
              "</style>\n",
              "<table border=\"1\" class=\"dataframe\">\n",
              "  <thead>\n",
              "    <tr style=\"text-align: right;\">\n",
              "      <th></th>\n",
              "      <th>Local Code</th>\n",
              "      <th>EndOfDayQuote Open</th>\n",
              "      <th>EndOfDayQuote High</th>\n",
              "      <th>EndOfDayQuote Low</th>\n",
              "      <th>EndOfDayQuote Close</th>\n",
              "      <th>EndOfDayQuote ExchangeOfficialClose</th>\n",
              "      <th>EndOfDayQuote Volume</th>\n",
              "      <th>EndOfDayQuote CumulativeAdjustmentFactor</th>\n",
              "      <th>EndOfDayQuote PreviousClose</th>\n",
              "      <th>EndOfDayQuote PreviousCloseDate</th>\n",
              "      <th>EndOfDayQuote PreviousExchangeOfficialClose</th>\n",
              "      <th>EndOfDayQuote PreviousExchangeOfficialCloseDate</th>\n",
              "      <th>EndOfDayQuote ChangeFromPreviousClose</th>\n",
              "      <th>EndOfDayQuote PercentChangeFromPreviousClose</th>\n",
              "      <th>EndOfDayQuote VWAP</th>\n",
              "    </tr>\n",
              "    <tr>\n",
              "      <th>EndOfDayQuote Date</th>\n",
              "      <th></th>\n",
              "      <th></th>\n",
              "      <th></th>\n",
              "      <th></th>\n",
              "      <th></th>\n",
              "      <th></th>\n",
              "      <th></th>\n",
              "      <th></th>\n",
              "      <th></th>\n",
              "      <th></th>\n",
              "      <th></th>\n",
              "      <th></th>\n",
              "      <th></th>\n",
              "      <th></th>\n",
              "      <th></th>\n",
              "    </tr>\n",
              "  </thead>\n",
              "  <tbody>\n",
              "    <tr>\n",
              "      <th>2019-11-18</th>\n",
              "      <td>1301</td>\n",
              "      <td>2941.0</td>\n",
              "      <td>2941.0</td>\n",
              "      <td>2923.0</td>\n",
              "      <td>2935.0</td>\n",
              "      <td>2935.0</td>\n",
              "      <td>14200.0</td>\n",
              "      <td>1.0</td>\n",
              "      <td>2923.0</td>\n",
              "      <td>2019/11/15</td>\n",
              "      <td>2923.0</td>\n",
              "      <td>2019/11/15</td>\n",
              "      <td>12.0</td>\n",
              "      <td>0.411</td>\n",
              "      <td>2932.923</td>\n",
              "    </tr>\n",
              "    <tr>\n",
              "      <th>2019-11-19</th>\n",
              "      <td>1301</td>\n",
              "      <td>2930.0</td>\n",
              "      <td>2948.0</td>\n",
              "      <td>2926.0</td>\n",
              "      <td>2938.0</td>\n",
              "      <td>2938.0</td>\n",
              "      <td>12800.0</td>\n",
              "      <td>1.0</td>\n",
              "      <td>2935.0</td>\n",
              "      <td>2019/11/18</td>\n",
              "      <td>2935.0</td>\n",
              "      <td>2019/11/18</td>\n",
              "      <td>3.0</td>\n",
              "      <td>0.102</td>\n",
              "      <td>2937.367</td>\n",
              "    </tr>\n",
              "    <tr>\n",
              "      <th>2019-11-20</th>\n",
              "      <td>1301</td>\n",
              "      <td>2939.0</td>\n",
              "      <td>2939.0</td>\n",
              "      <td>2883.0</td>\n",
              "      <td>2895.0</td>\n",
              "      <td>2895.0</td>\n",
              "      <td>35700.0</td>\n",
              "      <td>1.0</td>\n",
              "      <td>2938.0</td>\n",
              "      <td>2019/11/19</td>\n",
              "      <td>2938.0</td>\n",
              "      <td>2019/11/19</td>\n",
              "      <td>-43.0</td>\n",
              "      <td>-1.464</td>\n",
              "      <td>2905.938</td>\n",
              "    </tr>\n",
              "    <tr>\n",
              "      <th>2019-11-21</th>\n",
              "      <td>1301</td>\n",
              "      <td>2908.0</td>\n",
              "      <td>2910.0</td>\n",
              "      <td>2873.0</td>\n",
              "      <td>2902.0</td>\n",
              "      <td>2902.0</td>\n",
              "      <td>17600.0</td>\n",
              "      <td>1.0</td>\n",
              "      <td>2895.0</td>\n",
              "      <td>2019/11/20</td>\n",
              "      <td>2895.0</td>\n",
              "      <td>2019/11/20</td>\n",
              "      <td>7.0</td>\n",
              "      <td>0.242</td>\n",
              "      <td>2893.426</td>\n",
              "    </tr>\n",
              "    <tr>\n",
              "      <th>2019-11-22</th>\n",
              "      <td>1301</td>\n",
              "      <td>2905.0</td>\n",
              "      <td>2909.0</td>\n",
              "      <td>2886.0</td>\n",
              "      <td>2893.0</td>\n",
              "      <td>2893.0</td>\n",
              "      <td>25300.0</td>\n",
              "      <td>1.0</td>\n",
              "      <td>2902.0</td>\n",
              "      <td>2019/11/21</td>\n",
              "      <td>2902.0</td>\n",
              "      <td>2019/11/21</td>\n",
              "      <td>-9.0</td>\n",
              "      <td>-0.310</td>\n",
              "      <td>2896.407</td>\n",
              "    </tr>\n",
              "    <tr>\n",
              "      <th>...</th>\n",
              "      <td>...</td>\n",
              "      <td>...</td>\n",
              "      <td>...</td>\n",
              "      <td>...</td>\n",
              "      <td>...</td>\n",
              "      <td>...</td>\n",
              "      <td>...</td>\n",
              "      <td>...</td>\n",
              "      <td>...</td>\n",
              "      <td>...</td>\n",
              "      <td>...</td>\n",
              "      <td>...</td>\n",
              "      <td>...</td>\n",
              "      <td>...</td>\n",
              "      <td>...</td>\n",
              "    </tr>\n",
              "    <tr>\n",
              "      <th>2020-12-24</th>\n",
              "      <td>9997</td>\n",
              "      <td>995.0</td>\n",
              "      <td>1037.0</td>\n",
              "      <td>995.0</td>\n",
              "      <td>1025.0</td>\n",
              "      <td>1025.0</td>\n",
              "      <td>332300.0</td>\n",
              "      <td>1.0</td>\n",
              "      <td>980.0</td>\n",
              "      <td>2020/12/23</td>\n",
              "      <td>980.0</td>\n",
              "      <td>2020/12/23</td>\n",
              "      <td>45.0</td>\n",
              "      <td>4.592</td>\n",
              "      <td>1022.925</td>\n",
              "    </tr>\n",
              "    <tr>\n",
              "      <th>2020-12-25</th>\n",
              "      <td>9997</td>\n",
              "      <td>1018.0</td>\n",
              "      <td>1072.0</td>\n",
              "      <td>1018.0</td>\n",
              "      <td>1065.0</td>\n",
              "      <td>1065.0</td>\n",
              "      <td>426200.0</td>\n",
              "      <td>1.0</td>\n",
              "      <td>1025.0</td>\n",
              "      <td>2020/12/24</td>\n",
              "      <td>1025.0</td>\n",
              "      <td>2020/12/24</td>\n",
              "      <td>40.0</td>\n",
              "      <td>3.902</td>\n",
              "      <td>1048.806</td>\n",
              "    </tr>\n",
              "    <tr>\n",
              "      <th>2020-12-28</th>\n",
              "      <td>9997</td>\n",
              "      <td>1080.0</td>\n",
              "      <td>1096.0</td>\n",
              "      <td>1050.0</td>\n",
              "      <td>1072.0</td>\n",
              "      <td>1072.0</td>\n",
              "      <td>391400.0</td>\n",
              "      <td>1.0</td>\n",
              "      <td>1065.0</td>\n",
              "      <td>2020/12/25</td>\n",
              "      <td>1065.0</td>\n",
              "      <td>2020/12/25</td>\n",
              "      <td>7.0</td>\n",
              "      <td>0.657</td>\n",
              "      <td>1073.684</td>\n",
              "    </tr>\n",
              "    <tr>\n",
              "      <th>2020-12-29</th>\n",
              "      <td>9997</td>\n",
              "      <td>1070.0</td>\n",
              "      <td>1095.0</td>\n",
              "      <td>1061.0</td>\n",
              "      <td>1092.0</td>\n",
              "      <td>1092.0</td>\n",
              "      <td>199000.0</td>\n",
              "      <td>1.0</td>\n",
              "      <td>1072.0</td>\n",
              "      <td>2020/12/28</td>\n",
              "      <td>1072.0</td>\n",
              "      <td>2020/12/28</td>\n",
              "      <td>20.0</td>\n",
              "      <td>1.866</td>\n",
              "      <td>1081.915</td>\n",
              "    </tr>\n",
              "    <tr>\n",
              "      <th>2020-12-30</th>\n",
              "      <td>9997</td>\n",
              "      <td>1092.0</td>\n",
              "      <td>1140.0</td>\n",
              "      <td>1076.0</td>\n",
              "      <td>1134.0</td>\n",
              "      <td>1134.0</td>\n",
              "      <td>338900.0</td>\n",
              "      <td>1.0</td>\n",
              "      <td>1092.0</td>\n",
              "      <td>2020/12/29</td>\n",
              "      <td>1092.0</td>\n",
              "      <td>2020/12/29</td>\n",
              "      <td>42.0</td>\n",
              "      <td>3.846</td>\n",
              "      <td>1119.679</td>\n",
              "    </tr>\n",
              "  </tbody>\n",
              "</table>\n",
              "<p>480349 rows × 15 columns</p>\n",
              "</div>"
            ],
            "text/plain": [
              "                    Local Code  EndOfDayQuote Open  EndOfDayQuote High  EndOfDayQuote Low  EndOfDayQuote Close  \\\n",
              "EndOfDayQuote Date                                                                                               \n",
              "2019-11-18                1301              2941.0              2941.0             2923.0               2935.0   \n",
              "2019-11-19                1301              2930.0              2948.0             2926.0               2938.0   \n",
              "2019-11-20                1301              2939.0              2939.0             2883.0               2895.0   \n",
              "2019-11-21                1301              2908.0              2910.0             2873.0               2902.0   \n",
              "2019-11-22                1301              2905.0              2909.0             2886.0               2893.0   \n",
              "...                        ...                 ...                 ...                ...                  ...   \n",
              "2020-12-24                9997               995.0              1037.0              995.0               1025.0   \n",
              "2020-12-25                9997              1018.0              1072.0             1018.0               1065.0   \n",
              "2020-12-28                9997              1080.0              1096.0             1050.0               1072.0   \n",
              "2020-12-29                9997              1070.0              1095.0             1061.0               1092.0   \n",
              "2020-12-30                9997              1092.0              1140.0             1076.0               1134.0   \n",
              "\n",
              "                    EndOfDayQuote ExchangeOfficialClose  EndOfDayQuote Volume  \\\n",
              "EndOfDayQuote Date                                                              \n",
              "2019-11-18                                       2935.0               14200.0   \n",
              "2019-11-19                                       2938.0               12800.0   \n",
              "2019-11-20                                       2895.0               35700.0   \n",
              "2019-11-21                                       2902.0               17600.0   \n",
              "2019-11-22                                       2893.0               25300.0   \n",
              "...                                                 ...                   ...   \n",
              "2020-12-24                                       1025.0              332300.0   \n",
              "2020-12-25                                       1065.0              426200.0   \n",
              "2020-12-28                                       1072.0              391400.0   \n",
              "2020-12-29                                       1092.0              199000.0   \n",
              "2020-12-30                                       1134.0              338900.0   \n",
              "\n",
              "                    EndOfDayQuote CumulativeAdjustmentFactor  EndOfDayQuote PreviousClose  \\\n",
              "EndOfDayQuote Date                                                                          \n",
              "2019-11-18                                               1.0                       2923.0   \n",
              "2019-11-19                                               1.0                       2935.0   \n",
              "2019-11-20                                               1.0                       2938.0   \n",
              "2019-11-21                                               1.0                       2895.0   \n",
              "2019-11-22                                               1.0                       2902.0   \n",
              "...                                                      ...                          ...   \n",
              "2020-12-24                                               1.0                        980.0   \n",
              "2020-12-25                                               1.0                       1025.0   \n",
              "2020-12-28                                               1.0                       1065.0   \n",
              "2020-12-29                                               1.0                       1072.0   \n",
              "2020-12-30                                               1.0                       1092.0   \n",
              "\n",
              "                   EndOfDayQuote PreviousCloseDate  EndOfDayQuote PreviousExchangeOfficialClose  \\\n",
              "EndOfDayQuote Date                                                                                \n",
              "2019-11-18                              2019/11/15                                       2923.0   \n",
              "2019-11-19                              2019/11/18                                       2935.0   \n",
              "2019-11-20                              2019/11/19                                       2938.0   \n",
              "2019-11-21                              2019/11/20                                       2895.0   \n",
              "2019-11-22                              2019/11/21                                       2902.0   \n",
              "...                                            ...                                          ...   \n",
              "2020-12-24                              2020/12/23                                        980.0   \n",
              "2020-12-25                              2020/12/24                                       1025.0   \n",
              "2020-12-28                              2020/12/25                                       1065.0   \n",
              "2020-12-29                              2020/12/28                                       1072.0   \n",
              "2020-12-30                              2020/12/29                                       1092.0   \n",
              "\n",
              "                   EndOfDayQuote PreviousExchangeOfficialCloseDate  EndOfDayQuote ChangeFromPreviousClose  \\\n",
              "EndOfDayQuote Date                                                                                          \n",
              "2019-11-18                                              2019/11/15                                   12.0   \n",
              "2019-11-19                                              2019/11/18                                    3.0   \n",
              "2019-11-20                                              2019/11/19                                  -43.0   \n",
              "2019-11-21                                              2019/11/20                                    7.0   \n",
              "2019-11-22                                              2019/11/21                                   -9.0   \n",
              "...                                                            ...                                    ...   \n",
              "2020-12-24                                              2020/12/23                                   45.0   \n",
              "2020-12-25                                              2020/12/24                                   40.0   \n",
              "2020-12-28                                              2020/12/25                                    7.0   \n",
              "2020-12-29                                              2020/12/28                                   20.0   \n",
              "2020-12-30                                              2020/12/29                                   42.0   \n",
              "\n",
              "                    EndOfDayQuote PercentChangeFromPreviousClose  EndOfDayQuote VWAP  \n",
              "EndOfDayQuote Date                                                                    \n",
              "2019-11-18                                                 0.411            2932.923  \n",
              "2019-11-19                                                 0.102            2937.367  \n",
              "2019-11-20                                                -1.464            2905.938  \n",
              "2019-11-21                                                 0.242            2893.426  \n",
              "2019-11-22                                                -0.310            2896.407  \n",
              "...                                                          ...                 ...  \n",
              "2020-12-24                                                 4.592            1022.925  \n",
              "2020-12-25                                                 3.902            1048.806  \n",
              "2020-12-28                                                 0.657            1073.684  \n",
              "2020-12-29                                                 1.866            1081.915  \n",
              "2020-12-30                                                 3.846            1119.679  \n",
              "\n",
              "[480349 rows x 15 columns]"
            ]
          },
          "metadata": {
            "tags": []
          },
          "execution_count": 208
        }
      ]
    },
    {
      "cell_type": "code",
      "metadata": {
        "id": "NXS3Nc18R0Hn"
      },
      "source": [
        "# 投資対象日の前週金曜日時点で予測を出力するため、予測出力用の日付を設定します。\n",
        "pred_start_dt = pd.Timestamp(start_dt) - pd.Timedelta(\"3D\")\n",
        "# 特徴量の生成に必要な日数をバッファとして設定\n",
        "n = 30\n",
        "# データ絞り込み日付設定\n",
        "data_start_dt = pred_start_dt - pd.offsets.BDay(n)\n",
        "# 日付で絞り込み\n",
        "filter_date = df_price.index >= data_start_dt\n",
        "# 銘柄をユニバースで絞り込み\n",
        "filter_universe = df_price.loc[:, \"Local Code\"].isin(codes)\n",
        "# 絞り込み実施\n",
        "df_price = df_price.loc[filter_date & filter_universe]"
      ],
      "execution_count": null,
      "outputs": []
    },
    {
      "cell_type": "markdown",
      "metadata": {
        "id": "1qST0TlpKq2z"
      },
      "source": [
        "直感的に理解しやすい日付 x 銘柄のテーブルを作ります。"
      ]
    },
    {
      "cell_type": "code",
      "metadata": {
        "id": "DBiHIA3sR6TY"
      },
      "source": [
        "df_per_instruments = pd.pivot_table(df_price, values=['EndOfDayQuote Close'], columns=['Local Code'], index='EndOfDayQuote Date', aggfunc='mean')"
      ],
      "execution_count": null,
      "outputs": []
    },
    {
      "cell_type": "markdown",
      "metadata": {
        "id": "xbFaRrCz_a5D"
      },
      "source": [
        "扱いにくいmulti index をバラします"
      ]
    },
    {
      "cell_type": "code",
      "metadata": {
        "id": "4u3NLA8IaIM_"
      },
      "source": [
        "df_per_instruments.columns = df_per_instruments.columns.droplevel(level=0)"
      ],
      "execution_count": null,
      "outputs": []
    },
    {
      "cell_type": "markdown",
      "metadata": {
        "id": "QwQTMp4R-8CY"
      },
      "source": [
        "# 異常値の除外"
      ]
    },
    {
      "cell_type": "markdown",
      "metadata": {
        "id": "l3W8VIx7LLJ3"
      },
      "source": [
        "なぜか 2020-10-01 のデータがすべてゼロになっているので、このレコードを除外します。（おそらくランタイム環境でも外れ値を除外する処理が必要になる）"
      ]
    },
    {
      "cell_type": "code",
      "metadata": {
        "id": "ZOAZ270behnl"
      },
      "source": [
        "# 外れ値（終値が0以下）を除外\n",
        "filter_outlier = df_per_instruments.iloc[:, 0] > 0\n",
        "df_per_instruments = df_per_instruments[filter_outlier]"
      ],
      "execution_count": null,
      "outputs": []
    },
    {
      "cell_type": "markdown",
      "metadata": {
        "id": "twpyimDxJZH_"
      },
      "source": [
        "週次リターンを求めます。値が存在しないデータは0で補完します。"
      ]
    },
    {
      "cell_type": "code",
      "metadata": {
        "id": "4e7qXPTSljyn"
      },
      "source": [
        "df_return = df_per_instruments.pct_change(7).fillna(0)"
      ],
      "execution_count": null,
      "outputs": []
    },
    {
      "cell_type": "markdown",
      "metadata": {
        "id": "eFPomRFt_QA5"
      },
      "source": [
        "マーケットのリターンを求めます。ここでは全銘柄のリターンの中央値をマーケットのリターンとします。"
      ]
    },
    {
      "cell_type": "code",
      "metadata": {
        "id": "nNMFkcM2gV8a"
      },
      "source": [
        "# universe\n",
        "df_universe = df_return.median(axis=1)"
      ],
      "execution_count": null,
      "outputs": []
    },
    {
      "cell_type": "markdown",
      "metadata": {
        "id": "D9HGEIcX_aUb"
      },
      "source": [
        "各銘柄のリターンからマーケットのリターンを引いた、マーケット調整済みリターンを求めます。"
      ]
    },
    {
      "cell_type": "code",
      "metadata": {
        "id": "IWCVnmcAjOct"
      },
      "source": [
        "df_return_mka = df_return.apply(lambda x: x - df_universe)"
      ],
      "execution_count": null,
      "outputs": []
    },
    {
      "cell_type": "markdown",
      "metadata": {
        "id": "3MHbHTxG_o4N"
      },
      "source": [
        "無限大は扱いにくいので nan に置換します"
      ]
    },
    {
      "cell_type": "code",
      "metadata": {
        "id": "fC_ow_mSo5L7"
      },
      "source": [
        "df_return_mka.replace([np.inf, -np.inf], np.nan, inplace=True)"
      ],
      "execution_count": null,
      "outputs": []
    },
    {
      "cell_type": "markdown",
      "metadata": {
        "id": "Au6XN_A8APhN"
      },
      "source": [
        "2020年3月のデータはコロナ禍による影響が含まれていると考えられるため、全区間で平均を計算すると、直近の状況を正しく反映していない可能性があります。コロナ禍の影響が落ち着いてきた4月以降のデータのみでフィルタリングします。"
      ]
    },
    {
      "cell_type": "code",
      "metadata": {
        "id": "NQTK84JDtJUZ"
      },
      "source": [
        "# 2020年 4 月以降に限定\n",
        "filter_date = df_return_mka.index.to_series().between('2020-04-01', '2021-01-01')"
      ],
      "execution_count": null,
      "outputs": []
    },
    {
      "cell_type": "markdown",
      "metadata": {
        "id": "DMb_j3rMA6g5"
      },
      "source": [
        "コンペの課題では、月曜日に買って金曜日に売るという売り買いの仕方が決まっているので、金曜日のデータに限定します。\n",
        "チュートリアルでも触れているように、機関投資家が金曜日にまとめて売却する、といった運用をするなど、曜日に特徴的な影響がある可能性があります。\n",
        "ここではその影響を見ます。"
      ]
    },
    {
      "cell_type": "code",
      "metadata": {
        "id": "-iiyIL_z3PDh"
      },
      "source": [
        "# 2020年 4 月以降に限定\n",
        "filter_date = df_return_mka.index.to_series().between('2020-04-01', '2021-01-01')\n",
        "filter_day_of_week = df_return_mka.index.dayofweek == 4 # 金曜日"
      ],
      "execution_count": null,
      "outputs": []
    },
    {
      "cell_type": "markdown",
      "metadata": {
        "id": "zGNj_kFiCEdj"
      },
      "source": [
        "リターンが大きい銘柄は、ボラティリティ（標準偏差）も大きい傾向にあります。\n",
        "ポートフォリオを組むさいは、ボラが大きすぎる銘柄はリスクも大きいので、この値も重要となります。\n",
        "平均値をボラティリティで割った値（SHARPE ratio）も求めます。"
      ]
    },
    {
      "cell_type": "code",
      "metadata": {
        "id": "wxb4pZfa4JVF"
      },
      "source": [
        "df_ = pd.concat([\n",
        "    df_return[filter_date].replace([np.inf, -np.inf], np.nan).mean(),\n",
        "    df_return[filter_date].replace([np.inf, -np.inf], np.nan).std(),\n",
        "    df_return_mka[filter_date].replace([np.inf, -np.inf], np.nan).mean(),\n",
        "    df_return_mka[filter_date].replace([np.inf, -np.inf], np.nan).std(),\n",
        "], axis=1)\n",
        "df_.columns = ['return_7_mean', 'return_7_std', 'mka_return_7_mean', 'mka_return_7_std']\n",
        "df_['SHARPE'] = df_['mka_return_7_mean'] / df_['mka_return_7_std']"
      ],
      "execution_count": null,
      "outputs": []
    },
    {
      "cell_type": "code",
      "metadata": {
        "id": "jSbIJvDx4gX-"
      },
      "source": [
        "df_.sort_values('mka_return_7_mean', ascending=False, inplace=True)"
      ],
      "execution_count": null,
      "outputs": []
    },
    {
      "cell_type": "code",
      "metadata": {
        "id": "ZB4xZJ6y5Gu1"
      },
      "source": [
        "df_instrument = pd.merge(\n",
        "    df_.replace([np.inf, -np.inf], np.nan).sort_values('return_7_mean', ascending=False),\n",
        "    df_stock_list.set_index('Local Code')[['Name (English)', '33 Sector(name)']],\n",
        "    right_index=True,\n",
        "    left_index=True,\n",
        "    how='left'\n",
        ")"
      ],
      "execution_count": null,
      "outputs": []
    },
    {
      "cell_type": "markdown",
      "metadata": {
        "id": "G2blRCh-2eE7"
      },
      "source": [
        "# リスクーリターンカーブ\n",
        "\n",
        "リスクーリターンカーブを確認します。ポートフォリオを組むときは、同じリスクだとリターンの大きい銘柄を選択するほうが合理的です。理想的にはこのグラフの左上の端に近い銘柄で分散投資を組むのが良いと思われます。\n",
        "\n",
        "「左上に近い」という条件をどうアルゴリズムに落とすかは選択肢がいくつかあります。\n",
        "ぱっと思いつくのはRiskとReturnを二次元のメッシュに切り、各リスクのメッシュに対してリターンが最大のメッシュにある銘柄を選択するなど。"
      ]
    },
    {
      "cell_type": "markdown",
      "metadata": {
        "id": "oggKSWN6HEgw"
      },
      "source": [
        ""
      ]
    },
    {
      "cell_type": "code",
      "metadata": {
        "colab": {
          "base_uri": "https://localhost:8080/",
          "height": 350
        },
        "id": "3UuWDvsUvdQq",
        "outputId": "a6d2d901-2ea9-4d3c-8c34-c13ef01a2145"
      },
      "source": [
        "fig, ax = plt.subplots(1, 1, figsize=(5, 5))\n",
        "sns.scatterplot(x='return_7_std', y='return_7_mean', data=df_instrument, ax=ax, hue='SHARPE')\n",
        "ax.set_title('Risk-Return Curve (after April 2020)')\n",
        "ax.set_xlabel('Risk')\n",
        "ax.set_ylabel('Return')\n",
        "ax.grid(True)"
      ],
      "execution_count": null,
      "outputs": [
        {
          "output_type": "display_data",
          "data": {
            "image/png": "[encoded data removed]",
            "text/plain": [
              "<Figure size 360x360 with 1 Axes>"
            ]
          },
          "metadata": {
            "tags": [],
            "needs_background": "light"
          }
        }
      ]
    },
    {
      "cell_type": "code",
      "metadata": {
        "colab": {
          "base_uri": "https://localhost:8080/"
        },
        "id": "oeeKlJuFYBow",
        "outputId": "0d221540-6b03-4b8e-f330-6cb90ef2ca39"
      },
      "source": [
        "df_instrument.head(25).index"
      ],
      "execution_count": null,
      "outputs": [
        {
          "output_type": "execute_result",
          "data": {
            "text/plain": [
              "Int64Index([4477, 2150, 3998, 6095, 6070, 3788, 3663, 3962, 4308, 2484, 4488, 6937, 3902, 3633, 2375, 4490, 4436, 3491,\n",
              "            3696, 9519, 3031, 3922, 2158, 4772, 3558],\n",
              "           dtype='int64', name='Local Code')"
            ]
          },
          "metadata": {
            "tags": []
          },
          "execution_count": 158
        }
      ]
    },
    {
      "cell_type": "markdown",
      "metadata": {
        "id": "TYsB0BJj-dri"
      },
      "source": [
        "# 銘柄どうしの相関\n",
        "\n",
        "ポートフォリオを組むさいは、銘柄どうしの相関が小さいほうがリスクを小さくできるので、相関をみておきます。\n",
        "\n",
        "ここでは、SHARPEが大きい上位25銘柄でポートフォリオを組むものとして、これらの銘柄の相関係数をヒートマップにします。"
      ]
    },
    {
      "cell_type": "code",
      "metadata": {
        "colab": {
          "base_uri": "https://localhost:8080/",
          "height": 585
        },
        "id": "yY8d8BUQ57Vq",
        "outputId": "4b05d8f8-f339-4086-9661-246d9c00b7ab"
      },
      "source": [
        "fig, ax = plt.subplots(1, 1, figsize=(10, 8))\n",
        "sns.heatmap(np.corrcoef(df_return.loc[:,list(df_instrument.sort_values('SHARPE', ascending=False).head(25).index)].T), ax=ax, vmin=0, vmax=1)\n",
        "plt.tight_layout()"
      ],
      "execution_count": 262,
      "outputs": [
        {
          "output_type": "display_data",
          "data": {
            "image/png": "[encoded data removed]",
            "text/plain": [
              "<Figure size 720x576 with 2 Axes>"
            ]
          },
          "metadata": {
            "tags": [],
            "needs_background": "light"
          }
        }
      ]
    },
    {
      "cell_type": "markdown",
      "metadata": {
        "id": "SzeerTXYDRnq"
      },
      "source": [
        "25銘柄の中でも相関の大きいものと小さいものがあるので、ポートフォリオを組むことでリスクが小さくなることが期待できそうです。\n",
        "もう少し工夫すると、この中からさらに相関の小さいものどうしで組んだり、リターンの大きいものどうしで組むをなどの方針が考えられます。"
      ]
    },
    {
      "cell_type": "markdown",
      "metadata": {
        "id": "l3u3TQZqbF_w"
      },
      "source": [
        "# 最適なポートフォリオの構成比について\n",
        "\n",
        "マコービッツの平均分散モデル[1]を使ってある期待収益を達成しながら、リスクを最小化する問題を解きます。最適化のコードは資料[1]のものを流用させていただきました。\n",
        "\n",
        "[1] [Pythonでポートフォリオ最適化（マーコビッツの平均分散モデル）- Qiita](https://qiita.com/yumaloop/items/d709cc9b43f18df70382)"
      ]
    },
    {
      "cell_type": "code",
      "metadata": {
        "id": "6NTMM2mLb0bg"
      },
      "source": [
        "# source: https://qiita.com/yumaloop/items/d709cc9b43f18df70382\n",
        "import cvxopt\n",
        "\n",
        "def cvxopt_qp_solver(r, r_e, cov):\n",
        "    # CVXOPT QP Solver for Markowitz' Mean-Variance Model\n",
        "    # See https://cvxopt.org/userguide/coneprog.html#quadratic-programming\n",
        "    # See https://cdn.hackaday.io/files/277521187341568/art-mpt.pdf\n",
        "    n = len(r)\n",
        "    r = cvxopt.matrix(r)\n",
        "\n",
        "    P = cvxopt.matrix(2.0 * np.array(cov))\n",
        "    q = cvxopt.matrix(np.zeros((n, 1)))\n",
        "    G = cvxopt.matrix(np.concatenate((-np.transpose(r), -np.identity(n)), 0))\n",
        "    h = cvxopt.matrix(np.concatenate((-np.ones((1,1)) * r_e, np.zeros((n,1))), 0))\n",
        "    A = cvxopt.matrix(1.0, (1, n))\n",
        "    b = cvxopt.matrix(1.0)    \n",
        "    sol = cvxopt.solvers.qp(P, q, G, h, A, b)\n",
        "    return sol"
      ],
      "execution_count": 210,
      "outputs": []
    },
    {
      "cell_type": "markdown",
      "metadata": {
        "id": "4ypH-YfBgkPa"
      },
      "source": [
        "最適化の結果、比率が低すぎてほぼ選択されていないのと同様の銘柄ができるため、SHARPEの大きい75銘柄から構成します。\n",
        "期待収益は 5% としました。"
      ]
    },
    {
      "cell_type": "code",
      "metadata": {
        "id": "JLbVQrA0cXQX"
      },
      "source": [
        "df_portfolio = df_return.loc[:,list(df_instrument.sort_values('SHARPE', ascending=False).head(75).index)]"
      ],
      "execution_count": 317,
      "outputs": []
    },
    {
      "cell_type": "code",
      "metadata": {
        "id": "A6aNiomnjdWk"
      },
      "source": [
        "def optimize_portfolio(df_portfolio, r_e=.05):\n",
        "  r = df_portfolio.mean().values # Expected returns\n",
        "  r_e = r_e # Lower bound for portfolio's return\n",
        "  cov = df_portfolio.cov() # Covariance matrix\n",
        "\n",
        "  # Solve QP and derive optimal portfolio\n",
        "  sol = cvxopt_qp_solver(r, r_e, cov)\n",
        "  x_opt = np.array(sol['x'])\n",
        "\n",
        "  exp_return = np.inner(x_opt.ravel(), r)\n",
        "  var_return = sol[\"primal objective\"]\n",
        "\n",
        "  return x_opt, exp_return, var_return"
      ],
      "execution_count": 307,
      "outputs": []
    },
    {
      "cell_type": "code",
      "metadata": {
        "colab": {
          "base_uri": "https://localhost:8080/"
        },
        "id": "SUGl6EYNcwvu",
        "outputId": "e1693c53-42a8-416d-8de4-ef43ff73e26f"
      },
      "source": [
        "x_opt, exp_return, var_return = optimize_portfolio(df_portfolio, r_e=.06)\n",
        "\n",
        "print(f'Expected return: {exp_return:5.5f}:')\n",
        "print(f'Variance of return: {var_return:5.5f}')"
      ],
      "execution_count": 312,
      "outputs": [
        {
          "output_type": "stream",
          "text": [
            "     pcost       dcost       gap    pres   dres\n",
            " 0:  3.3346e-03 -9.5976e-01  8e+01  9e+00  9e+00\n",
            " 1:  3.7944e-03 -9.3389e-01  4e+00  4e-01  4e-01\n",
            " 2:  4.3605e-03 -6.7626e-01  3e+00  3e-01  3e-01\n",
            " 3:  1.0922e-02 -4.7157e-01  1e+00  4e-02  4e-02\n",
            " 4:  1.3336e-02 -1.5945e-01  2e-01  2e-03  2e-03\n",
            " 5:  1.3296e-02 -1.3651e-04  1e-02  1e-04  1e-04\n",
            " 6:  1.0766e-02  4.7624e-03  6e-03  6e-17  2e-15\n",
            " 7:  1.0289e-02  7.9824e-03  2e-03  2e-16  1e-15\n",
            " 8:  9.6004e-03  7.9745e-03  2e-03  1e-16  2e-15\n",
            " 9:  9.1311e-03  8.7907e-03  3e-04  4e-16  1e-14\n",
            "10:  8.9394e-03  8.9143e-03  3e-05  3e-16  1e-14\n",
            "11:  8.9203e-03  8.9201e-03  3e-07  2e-16  5e-15\n",
            "12:  8.9201e-03  8.9201e-03  3e-09  3e-16  5e-15\n",
            "Optimal solution found.\n",
            "Expected return: 0.06000:\n",
            "Variance of return: 0.00892\n"
          ],
          "name": "stdout"
        }
      ]
    },
    {
      "cell_type": "markdown",
      "metadata": {
        "id": "0Rj_mvfghGu9"
      },
      "source": [
        "期待収益が6%に対して、リスクは 0.89% とかなり小さくなりました。実際の構成比を可視化してみます。"
      ]
    },
    {
      "cell_type": "code",
      "metadata": {
        "colab": {
          "base_uri": "https://localhost:8080/",
          "height": 282
        },
        "id": "Bi4PM2RVd1nZ",
        "outputId": "c7fc1712-a053-4da5-d228-88880c8633fa"
      },
      "source": [
        "plt.plot(x_opt)"
      ],
      "execution_count": 260,
      "outputs": [
        {
          "output_type": "execute_result",
          "data": {
            "text/plain": [
              "[<matplotlib.lines.Line2D at 0x7f34b3532d90>]"
            ]
          },
          "metadata": {
            "tags": []
          },
          "execution_count": 260
        },
        {
          "output_type": "display_data",
          "data": {
            "image/png": "[encoded data removed]",
            "text/plain": [
              "<Figure size 432x288 with 1 Axes>"
            ]
          },
          "metadata": {
            "tags": [],
            "needs_background": "light"
          }
        }
      ]
    },
    {
      "cell_type": "markdown",
      "metadata": {
        "id": "IR9h7bfJf7Z4"
      },
      "source": [
        "比率が1%未満のものをのぞくと、7銘柄でポートフォリオを組んでいます。\n",
        "\n",
        "ランタイム環境では5銘柄以上を選択しないと失格となるため、4銘柄以下だった場合の対応が必要です。"
      ]
    },
    {
      "cell_type": "markdown",
      "metadata": {
        "id": "fIlqGUDAmCTZ"
      },
      "source": [
        "## 期待収益の最適化\n",
        "\n",
        "期待収益をパラメータとみなして変化させて、期待収益とリスクの関係をプロットしてみます。"
      ]
    },
    {
      "cell_type": "code",
      "metadata": {
        "colab": {
          "base_uri": "https://localhost:8080/"
        },
        "id": "6wxLu0xrlEeF",
        "outputId": "f2b5a17f-2a92-461c-dcb7-ec4d2df0794a"
      },
      "source": [
        "portfolios = []\n",
        "\n",
        "for r_e in np.linspace(0.05, 0.07, 10):\n",
        "  x_opt, exp_return, var_return = optimize_portfolio(df_portfolio, r_e=r_e)\n",
        "  portfolios.append((x_opt, exp_return, var_return, r_e))"
      ],
      "execution_count": 335,
      "outputs": [
        {
          "output_type": "stream",
          "text": [
            "     pcost       dcost       gap    pres   dres\n",
            " 0:  3.3270e-03 -9.7027e-01  8e+01  9e+00  9e+00\n",
            " 1:  3.7823e-03 -9.4521e-01  4e+00  3e-01  3e-01\n",
            " 2:  4.0299e-03 -7.8298e-01  3e+00  2e-01  2e-01\n",
            " 3:  8.3407e-03 -5.5490e-01  9e-01  2e-02  2e-02\n",
            " 4:  9.0552e-03 -1.1769e-01  1e-01  1e-16  4e-15\n",
            " 5:  8.7153e-03 -5.4163e-03  1e-02  2e-16  9e-16\n",
            " 6:  7.0781e-03  2.5985e-03  4e-03  2e-16  2e-16\n",
            " 7:  5.4038e-03  2.1851e-03  3e-03  2e-16  3e-16\n",
            " 8:  4.8953e-03  4.3061e-03  6e-04  3e-16  1e-14\n",
            " 9:  4.7031e-03  4.4567e-03  2e-04  1e-16  4e-15\n",
            "10:  4.5659e-03  4.5439e-03  2e-05  8e-17  3e-15\n",
            "11:  4.5517e-03  4.5514e-03  3e-07  4e-16  3e-15\n",
            "12:  4.5515e-03  4.5515e-03  3e-09  8e-17  9e-15\n",
            "Optimal solution found.\n",
            "     pcost       dcost       gap    pres   dres\n",
            " 0:  3.3287e-03 -9.6795e-01  8e+01  9e+00  9e+00\n",
            " 1:  3.7849e-03 -9.4274e-01  4e+00  3e-01  3e-01\n",
            " 2:  4.0844e-03 -7.6841e-01  3e+00  2e-01  2e-01\n",
            " 3:  9.3509e-03 -5.2330e-01  7e-01  1e-02  1e-02\n",
            " 4:  9.7347e-03 -5.8308e-02  7e-02  1e-16  5e-15\n",
            " 5:  9.1917e-03 -1.1936e-03  1e-02  1e-16  9e-16\n",
            " 6:  7.7226e-03  3.7960e-03  4e-03  2e-16  4e-16\n",
            " 7:  6.1645e-03  3.9969e-03  2e-03  2e-16  1e-16\n",
            " 8:  5.4550e-03  5.1661e-03  3e-04  5e-17  1e-14\n",
            " 9:  5.2453e-03  5.2254e-03  2e-05  1e-16  7e-15\n",
            "10:  5.2286e-03  5.2282e-03  4e-07  8e-17  6e-15\n",
            "11:  5.2283e-03  5.2283e-03  4e-09  2e-16  1e-14\n",
            "Optimal solution found.\n",
            "     pcost       dcost       gap    pres   dres\n",
            " 0:  3.3304e-03 -9.6562e-01  8e+01  9e+00  9e+00\n",
            " 1:  3.7875e-03 -9.4025e-01  4e+00  4e-01  4e-01\n",
            " 2:  4.1477e-03 -7.4890e-01  3e+00  2e-01  2e-01\n",
            " 3:  9.8144e-03 -5.0801e-01  8e-01  2e-02  2e-02\n",
            " 4:  1.0590e-02 -8.7311e-02  1e-01  3e-16  6e-15\n",
            " 5:  1.0141e-02 -1.7671e-03  1e-02  8e-17  1e-15\n",
            " 6:  8.4456e-03  4.7325e-03  4e-03  2e-16  4e-16\n",
            " 7:  6.8667e-03  4.2053e-03  3e-03  8e-17  3e-16\n",
            " 8:  6.3344e-03  5.8612e-03  5e-04  2e-16  2e-14\n",
            " 9:  6.0849e-03  6.0628e-03  2e-05  4e-16  1e-14\n",
            "10:  6.0678e-03  6.0673e-03  6e-07  2e-16  2e-14\n",
            "11:  6.0674e-03  6.0674e-03  9e-09  3e-16  1e-13\n",
            "Optimal solution found.\n",
            "     pcost       dcost       gap    pres   dres\n",
            " 0:  3.3320e-03 -9.6328e-01  8e+01  9e+00  9e+00\n",
            " 1:  3.7903e-03 -9.3773e-01  4e+00  4e-01  4e-01\n",
            " 2:  4.2221e-03 -7.2419e-01  3e+00  2e-01  2e-01\n",
            " 3:  1.0222e-02 -4.9367e-01  9e-01  3e-02  3e-02\n",
            " 4:  1.1648e-02 -1.2056e-01  1e-01  2e-16  7e-15\n",
            " 5:  1.1258e-02 -1.9004e-03  1e-02  1e-16  1e-15\n",
            " 6:  9.3182e-03  4.5904e-03  5e-03  2e-16  7e-16\n",
            " 7:  7.9080e-03  6.0506e-03  2e-03  3e-17  3e-16\n",
            " 8:  7.2305e-03  7.0105e-03  2e-04  3e-16  4e-14\n",
            " 9:  7.0824e-03  7.0757e-03  7e-06  2e-16  6e-15\n",
            "10:  7.0769e-03  7.0768e-03  8e-08  4e-16  2e-14\n",
            "Optimal solution found.\n",
            "     pcost       dcost       gap    pres   dres\n",
            " 0:  3.3337e-03 -9.6094e-01  8e+01  9e+00  9e+00\n",
            " 1:  3.7930e-03 -9.3518e-01  4e+00  4e-01  4e-01\n",
            " 2:  4.3102e-03 -6.9380e-01  3e+00  3e-01  3e-01\n",
            " 3:  1.0672e-02 -4.7886e-01  1e+00  3e-02  3e-02\n",
            " 4:  1.2759e-02 -1.5111e-01  2e-01  1e-03  1e-03\n",
            " 5:  1.2570e-02 -9.9822e-04  1e-02  1e-04  1e-04\n",
            " 6:  1.0263e-02  4.4702e-03  6e-03  1e-16  2e-15\n",
            " 7:  9.7038e-03  7.3248e-03  2e-03  8e-17  1e-15\n",
            " 8:  8.8441e-03  7.6543e-03  1e-03  1e-16  8e-16\n",
            " 9:  8.3396e-03  8.2414e-03  1e-04  2e-16  2e-14\n",
            "10:  8.2627e-03  8.2616e-03  1e-06  1e-16  9e-15\n",
            "11:  8.2618e-03  8.2618e-03  1e-08  9e-17  2e-14\n",
            "Optimal solution found.\n",
            "     pcost       dcost       gap    pres   dres\n",
            " 0:  3.3354e-03 -9.5858e-01  8e+01  9e+00  9e+00\n",
            " 1:  3.7958e-03 -9.3260e-01  4e+00  4e-01  4e-01\n",
            " 2:  4.4158e-03 -6.5701e-01  3e+00  3e-01  3e-01\n",
            " 3:  1.1200e-02 -4.6446e-01  1e+00  4e-02  4e-02\n",
            " 4:  1.3935e-02 -1.6215e-01  2e-01  3e-03  3e-03\n",
            " 5:  1.4069e-02  9.9361e-04  1e-02  2e-04  2e-04\n",
            " 6:  1.1303e-02  5.3154e-03  6e-03  6e-17  2e-15\n",
            " 7:  1.0837e-02  8.7940e-03  2e-03  2e-16  2e-15\n",
            " 8:  1.0315e-02  8.5681e-03  2e-03  7e-17  5e-15\n",
            " 9:  9.9438e-03  9.3666e-03  6e-04  2e-16  5e-15\n",
            "10:  9.6956e-03  9.5842e-03  1e-04  2e-16  6e-15\n",
            "11:  9.6235e-03  9.6218e-03  2e-06  2e-16  9e-15\n",
            "12:  9.6224e-03  9.6224e-03  2e-08  2e-16  9e-15\n",
            "Optimal solution found.\n",
            "     pcost       dcost       gap    pres   dres\n",
            " 0:  3.3371e-03 -9.5621e-01  8e+01  9e+00  9e+00\n",
            " 1:  3.7987e-03 -9.2999e-01  5e+00  4e-01  4e-01\n",
            " 2:  4.5438e-03 -6.1279e-01  3e+00  3e-01  3e-01\n",
            " 3:  1.1820e-02 -4.5234e-01  1e+00  5e-02  5e-02\n",
            " 4:  1.5215e-02 -1.5366e-01  2e-01  5e-03  5e-03\n",
            " 5:  1.5808e-02  3.9795e-03  1e-02  6e-05  6e-05\n",
            " 6:  1.2555e-02  7.1889e-03  5e-03  2e-16  3e-15\n",
            " 7:  1.2003e-02  1.0508e-02  1e-03  2e-16  5e-15\n",
            " 8:  1.1415e-02  1.0844e-02  6e-04  3e-16  2e-15\n",
            " 9:  1.1216e-02  1.1117e-02  1e-04  3e-17  3e-14\n",
            "10:  1.1161e-02  1.1157e-02  4e-06  2e-16  5e-14\n",
            "11:  1.1159e-02  1.1158e-02  1e-07  2e-16  1e-13\n",
            "12:  1.1159e-02  1.1159e-02  7e-09  2e-16  2e-12\n",
            "Optimal solution found.\n",
            "     pcost       dcost       gap    pres   dres\n",
            " 0:  3.3388e-03 -9.5383e-01  8e+01  9e+00  9e+00\n",
            " 1:  3.8016e-03 -9.2735e-01  5e+00  4e-01  4e-01\n",
            " 2:  4.7015e-03 -5.5971e-01  3e+00  3e-01  3e-01\n",
            " 3:  1.2450e-02 -4.4566e-01  1e+00  6e-02  6e-02\n",
            " 4:  1.6612e-02 -1.2925e-01  2e-01  6e-03  6e-03\n",
            " 5:  1.7836e-02 -2.6179e-03  2e-02  1e-16  8e-15\n",
            " 6:  1.6158e-02  1.0261e-02  6e-03  2e-16  5e-15\n",
            " 7:  1.3959e-02  1.1785e-02  2e-03  2e-16  6e-15\n",
            " 8:  1.3311e-02  1.2690e-02  6e-04  2e-16  1e-14\n",
            " 9:  1.2975e-02  1.2904e-02  7e-05  2e-16  1e-14\n",
            "10:  1.2923e-02  1.2908e-02  1e-05  2e-16  1e-14\n",
            "11:  1.2911e-02  1.2911e-02  2e-07  4e-16  7e-14\n",
            "12:  1.2911e-02  1.2911e-02  2e-09  2e-16  1e-13\n",
            "Optimal solution found.\n",
            "     pcost       dcost       gap    pres   dres\n",
            " 0:  3.3405e-03 -9.5144e-01  8e+01  9e+00  9e+00\n",
            " 1:  3.8045e-03 -9.2468e-01  5e+00  5e-01  5e-01\n",
            " 2:  4.8991e-03 -4.9577e-01  3e+00  3e-01  3e-01\n",
            " 3:  1.3222e-02 -4.4529e-01  1e+00  7e-02  7e-02\n",
            " 4:  1.8163e-02 -9.0243e-02  2e-01  8e-03  8e-03\n",
            " 5:  2.0106e-02 -9.1794e-03  3e-02  2e-16  3e-14\n",
            " 6:  1.9269e-02  1.3244e-02  6e-03  2e-16  1e-14\n",
            " 7:  1.6377e-02  1.4774e-02  2e-03  1e-16  9e-15\n",
            " 8:  1.5490e-02  1.5360e-02  1e-04  4e-17  3e-14\n",
            " 9:  1.5385e-02  1.5382e-02  4e-06  1e-16  5e-14\n",
            "10:  1.5382e-02  1.5382e-02  2e-07  1e-16  6e-13\n",
            "11:  1.5382e-02  1.5382e-02  2e-08  1e-16  7e-12\n",
            "Optimal solution found.\n",
            "     pcost       dcost       gap    pres   dres\n",
            " 0:  3.3422e-03 -9.4904e-01  8e+01  9e+00  9e+00\n",
            " 1:  3.8075e-03 -9.2198e-01  5e+00  5e-01  5e-01\n",
            " 2:  5.1518e-03 -4.1813e-01  4e+00  3e-01  3e-01\n",
            " 3:  1.4383e-02 -4.6649e-01  2e+00  8e-02  8e-02\n",
            " 4:  1.9960e-02 -4.1000e-02  2e-01  9e-03  8e-03\n",
            " 5:  2.2666e-02 -6.3457e-03  3e-02  2e-16  2e-14\n",
            " 6:  2.2353e-02  1.8309e-02  4e-03  2e-16  6e-15\n",
            " 7:  2.0198e-02  1.8365e-02  2e-03  2e-16  2e-14\n",
            " 8:  1.9739e-02  1.9231e-02  5e-04  3e-16  3e-13\n",
            " 9:  1.9499e-02  1.9437e-02  6e-05  1e-16  2e-13\n",
            "10:  1.9452e-02  1.9451e-02  6e-07  3e-17  5e-14\n",
            "11:  1.9452e-02  1.9452e-02  6e-09  1e-16  5e-14\n",
            "Optimal solution found.\n"
          ],
          "name": "stdout"
        }
      ]
    },
    {
      "cell_type": "markdown",
      "metadata": {
        "id": "cLYgCG4dpn_x"
      },
      "source": [
        "最適なポートフォリオを組んだ場合のリターンーリスク曲線をプロットします。\n",
        "ポートフォリオを組んだ場合でもリターンが大きいほどリスクが増大する傾向にあることがわかります。"
      ]
    },
    {
      "cell_type": "code",
      "metadata": {
        "colab": {
          "base_uri": "https://localhost:8080/",
          "height": 312
        },
        "id": "mDJehkbPmNJD",
        "outputId": "b3acf576-8910-4234-b0d1-32ead2463688"
      },
      "source": [
        "mean = np.array([elem[1] for elem in portfolios])\n",
        "variance = np.array([elem[2] for elem in portfolios])\n",
        "\n",
        "plt.plot(variance, mean)\n",
        "plt.ylabel('Mean Return')\n",
        "plt.xlabel('Variance of Return')\n",
        "plt.title('Return-Risk Curve of Optimized Portfolio')"
      ],
      "execution_count": 353,
      "outputs": [
        {
          "output_type": "execute_result",
          "data": {
            "text/plain": [
              "Text(0.5, 1.0, 'Return-Risk Curve of Optimized Portfolio')"
            ]
          },
          "metadata": {
            "tags": []
          },
          "execution_count": 353
        },
        {
          "output_type": "display_data",
          "data": {
            "image/png": "[encoded data removed]",
            "text/plain": [
              "<Figure size 432x288 with 1 Axes>"
            ]
          },
          "metadata": {
            "tags": [],
            "needs_background": "light"
          }
        }
      ]
    },
    {
      "cell_type": "markdown",
      "metadata": {
        "id": "dKm46Q_6p92J"
      },
      "source": [
        "この曲線からは期待収益をどのような値に選べばよいか判断できないため、平均値 - n * σ の点をプロットします。"
      ]
    },
    {
      "cell_type": "code",
      "metadata": {
        "colab": {
          "base_uri": "https://localhost:8080/",
          "height": 312
        },
        "id": "T7XGfoNRo-am",
        "outputId": "dec3c98c-0e11-400a-fa5c-27055d4d69e0"
      },
      "source": [
        "plt.plot(y_1, y_1 - y_2, label='mean - sigma')\n",
        "plt.plot(y_1, y_1 - y_2 * 2, label='mean - 2 sigma')\n",
        "\n",
        "plt.xlabel('Mean Return')\n",
        "plt.ylabel('Mean - alpha')\n",
        "plt.title('Return-Risk Curve of Optimized Portfolio')\n",
        "plt.legend()"
      ],
      "execution_count": 352,
      "outputs": [
        {
          "output_type": "execute_result",
          "data": {
            "text/plain": [
              "<matplotlib.legend.Legend at 0x7f34b2698f90>"
            ]
          },
          "metadata": {
            "tags": []
          },
          "execution_count": 352
        },
        {
          "output_type": "display_data",
          "data": {
            "image/png": "[encoded data removed]",
            "text/plain": [
              "<Figure size 432x288 with 1 Axes>"
            ]
          },
          "metadata": {
            "tags": [],
            "needs_background": "light"
          }
        }
      ]
    },
    {
      "cell_type": "markdown",
      "metadata": {
        "id": "gvxUUBXSrbqD"
      },
      "source": [
        "このプロットから、以下のことがわかります。\n",
        "* 期待収益を 5.5% あたりにとれば、平均値 - 2σ の点のリターンが 4.2% となる（仮に分布が正規分布だとすると、97.5% の確率でこれ以上のリターンが見込むことができる）\n",
        "* 期待収益を 6.5% あたりにとれば、平均値 - σ の点のリターンが 5.2% となる（仮に分布が正規分布だとすると、 84% の確率でこれ以上のリターンが見込むことができる）\n",
        "\n",
        "このように、最低の収益を保証しながら、リターンの期待値を大きくとる方針を立てることができました。"
      ]
    },
    {
      "cell_type": "markdown",
      "metadata": {
        "id": "mDAiJPCLE2TN"
      },
      "source": [
        "# まとめ：ポートフォリオの組み方について\n",
        "\n",
        "このnotebookでは、静的な統計解析の結果から良いポートフォリオを組む方針について考察しました。\n",
        "具体的には、以下について言及しました。\n",
        "\n",
        "* 銘柄を選ぶときは、リスクが同じだと、リターンが大きくなるように選ぶ\n",
        "* なるべく銘柄どうしの相関が小さくなるように選ぶほうがリスクが小さくなる（共倒れしにくくなる）\n",
        "* マコービッツの平均分散モデルによって、期待収益を満たす最小リスクの銘柄選択を示した\n",
        "\n",
        "以下については触れませんでした。\n",
        "\n",
        "* モデルを使って予測した結果をポートフォリオに反映する方針について"
      ]
    }
  ]
}